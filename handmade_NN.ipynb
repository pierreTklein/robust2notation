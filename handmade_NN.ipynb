{
  "nbformat": 4,
  "nbformat_minor": 0,
  "metadata": {
    "colab": {
      "name": "handmade_NN.ipynb",
      "version": "0.3.2",
      "provenance": [],
      "collapsed_sections": [],
      "toc_visible": true
    },
    "kernelspec": {
      "name": "python3",
      "display_name": "Python 3"
    },
    "accelerator": "GPU"
  },
  "cells": [
    {
      "metadata": {
        "id": "ZhOhupdZbLvb",
        "colab_type": "text"
      },
      "cell_type": "markdown",
      "source": [
        "# Non-Gourmet Artificial Neural Network"
      ]
    },
    {
      "metadata": {
        "id": "o8PrCVW8fhQm",
        "colab_type": "code",
        "colab": {}
      },
      "cell_type": "code",
      "source": [
        "# unzip files\n",
        "import zipfile\n",
        "zip_ref = zipfile.ZipFile('files.zip', 'r')\n",
        "zip_ref.extractall('./')\n",
        "zip_ref.close()"
      ],
      "execution_count": 0,
      "outputs": []
    },
    {
      "metadata": {
        "id": "7XCU18AUbLvc",
        "colab_type": "code",
        "colab": {}
      },
      "cell_type": "code",
      "source": [
        "import numpy as np\n",
        "import pandas as pd # data processing, CSV file I/O (e.g. pd.read_csv)\n",
        "import matplotlib.pyplot as plt"
      ],
      "execution_count": 0,
      "outputs": []
    },
    {
      "metadata": {
        "id": "7G6W56PxbLvh",
        "colab_type": "text"
      },
      "cell_type": "markdown",
      "source": [
        "## Theo's pre-processed image data"
      ]
    },
    {
      "metadata": {
        "id": "K4q18AKzbLvi",
        "colab_type": "code",
        "colab": {}
      },
      "cell_type": "code",
      "source": [
        "theoPreprocessedPath = 'processedData.npy'\n",
        "theo_rawImgMats = np.load(theoPreprocessedPath)"
      ],
      "execution_count": 0,
      "outputs": []
    },
    {
      "metadata": {
        "id": "j-ryQNI1bLvl",
        "colab_type": "code",
        "outputId": "e1204214-0fa9-4e3b-bb45-d389106070fd",
        "colab": {
          "base_uri": "https://localhost:8080/",
          "height": 34
        }
      },
      "cell_type": "code",
      "source": [
        "theoProcessed_ImgSet = np.empty((len(theo_rawImgMats),40,40))\n",
        "\n",
        "for idx in range(len(theo_rawImgMats)):\n",
        "    theoProcessed_ImgSet[idx,:,:] = theo_rawImgMats[idx].reshape((40,40))\n",
        "    \n",
        "print(np.shape(theoProcessed_ImgSet))"
      ],
      "execution_count": 0,
      "outputs": [
        {
          "output_type": "stream",
          "text": [
            "(10000, 40, 40)\n"
          ],
          "name": "stdout"
        }
      ]
    },
    {
      "metadata": {
        "scrolled": true,
        "id": "CrF-bfB2bLvq",
        "colab_type": "code",
        "outputId": "56179477-ab42-4a7f-e071-41424828f752",
        "colab": {
          "base_uri": "https://localhost:8080/",
          "height": 869
        }
      },
      "cell_type": "code",
      "source": [
        "for idx in range(len(theoProcessed_ImgSet)):\n",
        "    if idx > 5:\n",
        "        break\n",
        "    \n",
        "    # SHow image\n",
        "    plt.figure(figsize=(2,2))\n",
        "    plt.imshow(theoProcessed_ImgSet[idx], cmap='gray_r')\n",
        "    plt.show()"
      ],
      "execution_count": 0,
      "outputs": [
        {
          "output_type": "display_data",
          "data": {
            "image/png": "[encoded data removed]",
            "text/plain": [
              "<matplotlib.figure.Figure at 0x7f338d2dc630>"
            ]
          },
          "metadata": {
            "tags": []
          }
        },
        {
          "output_type": "display_data",
          "data": {
            "image/png": "[encoded data removed]",
            "text/plain": [
              "<matplotlib.figure.Figure at 0x7f338d28e748>"
            ]
          },
          "metadata": {
            "tags": []
          }
        },
        {
          "output_type": "display_data",
          "data": {
            "image/png": "[encoded data removed]",
            "text/plain": [
              "<matplotlib.figure.Figure at 0x7f338d251780>"
            ]
          },
          "metadata": {
            "tags": []
          }
        },
        {
          "output_type": "display_data",
          "data": {
            "image/png": "[encoded data removed]",
            "text/plain": [
              "<matplotlib.figure.Figure at 0x7f338a9dd630>"
            ]
          },
          "metadata": {
            "tags": []
          }
        },
        {
          "output_type": "display_data",
          "data": {
            "image/png": "[encoded data removed]",
            "text/plain": [
              "<matplotlib.figure.Figure at 0x7f338a9b2b38>"
            ]
          },
          "metadata": {
            "tags": []
          }
        },
        {
          "output_type": "display_data",
          "data": {
            "image/png": "[encoded data removed]",
            "text/plain": [
              "<matplotlib.figure.Figure at 0x7f338a904208>"
            ]
          },
          "metadata": {
            "tags": []
          }
        }
      ]
    },
    {
      "metadata": {
        "id": "QG86PBBtbLvv",
        "colab_type": "text"
      },
      "cell_type": "markdown",
      "source": [
        "### Flatten images"
      ]
    },
    {
      "metadata": {
        "id": "0cewsDI8bLvw",
        "colab_type": "code",
        "outputId": "63e4148e-53e9-4a0d-8400-e3a601c11e0c",
        "colab": {
          "base_uri": "https://localhost:8080/",
          "height": 34
        }
      },
      "cell_type": "code",
      "source": [
        "# Array to store this\n",
        "X_unscaled = np.empty((np.shape(theoProcessed_ImgSet)[0],\n",
        "                       np.shape(theoProcessed_ImgSet)[1] * np.shape(theoProcessed_ImgSet)[2]))\n",
        "\n",
        "# Flatten images\n",
        "for i, imgMat in enumerate(theoProcessed_ImgSet):\n",
        "    X_unscaled[i, :] = imgMat.flatten()\n",
        "\n",
        "np.shape(X_unscaled)"
      ],
      "execution_count": 0,
      "outputs": [
        {
          "output_type": "execute_result",
          "data": {
            "text/plain": [
              "(10000, 1600)"
            ]
          },
          "metadata": {
            "tags": []
          },
          "execution_count": 8
        }
      ]
    },
    {
      "metadata": {
        "id": "NGqaTm2jbLv0",
        "colab_type": "text"
      },
      "cell_type": "markdown",
      "source": [
        "## Clean-up for model"
      ]
    },
    {
      "metadata": {
        "id": "kM-Y09RObLv0",
        "colab_type": "text"
      },
      "cell_type": "markdown",
      "source": [
        "### Get labels"
      ]
    },
    {
      "metadata": {
        "id": "5-431OrDbLv1",
        "colab_type": "code",
        "outputId": "b7d73a6a-e9b5-48e2-e618-5a2e3ded6c9d",
        "colab": {
          "base_uri": "https://localhost:8080/",
          "height": 159
        }
      },
      "cell_type": "code",
      "source": [
        "TRAIN_LAB_PATH = \"train_labels.csv\"\n",
        "\n",
        "lab_df = pd.read_csv(TRAIN_LAB_PATH)\n",
        "print(len(lab_df))\n",
        "lab_df[0:3]"
      ],
      "execution_count": 0,
      "outputs": [
        {
          "output_type": "stream",
          "text": [
            "10000\n"
          ],
          "name": "stdout"
        },
        {
          "output_type": "execute_result",
          "data": {
            "text/html": [
              "<div>\n",
              "<style scoped>\n",
              "    .dataframe tbody tr th:only-of-type {\n",
              "        vertical-align: middle;\n",
              "    }\n",
              "\n",
              "    .dataframe tbody tr th {\n",
              "        vertical-align: top;\n",
              "    }\n",
              "\n",
              "    .dataframe thead th {\n",
              "        text-align: right;\n",
              "    }\n",
              "</style>\n",
              "<table border=\"1\" class=\"dataframe\">\n",
              "  <thead>\n",
              "    <tr style=\"text-align: right;\">\n",
              "      <th></th>\n",
              "      <th>Id</th>\n",
              "      <th>Category</th>\n",
              "    </tr>\n",
              "  </thead>\n",
              "  <tbody>\n",
              "    <tr>\n",
              "      <th>0</th>\n",
              "      <td>0</td>\n",
              "      <td>shovel</td>\n",
              "    </tr>\n",
              "    <tr>\n",
              "      <th>1</th>\n",
              "      <td>1</td>\n",
              "      <td>rifle</td>\n",
              "    </tr>\n",
              "    <tr>\n",
              "      <th>2</th>\n",
              "      <td>2</td>\n",
              "      <td>scorpion</td>\n",
              "    </tr>\n",
              "  </tbody>\n",
              "</table>\n",
              "</div>"
            ],
            "text/plain": [
              "   Id  Category\n",
              "0   0    shovel\n",
              "1   1     rifle\n",
              "2   2  scorpion"
            ]
          },
          "metadata": {
            "tags": []
          },
          "execution_count": 9
        }
      ]
    },
    {
      "metadata": {
        "id": "2u4UegpFbLv5",
        "colab_type": "code",
        "colab": {}
      },
      "cell_type": "code",
      "source": [
        "# Get labels and encode\n",
        "from sklearn.preprocessing import LabelEncoder\n",
        "from sklearn.preprocessing import OneHotEncoder\n",
        "# Get data\n",
        "string_labels = lab_df['Category'].values\n",
        "# Integer encode\n",
        "le = LabelEncoder()\n",
        "y_intLab = le.fit_transform(string_labels)\n",
        "# One hot encode\n",
        "encoder_OH = OneHotEncoder(sparse=False)\n",
        "y_intLab = y_intLab.reshape(len(y_intLab), 1)\n",
        "y_preShuf = encoder_OH.fit_transform(y_intLab)"
      ],
      "execution_count": 0,
      "outputs": []
    },
    {
      "metadata": {
        "id": "vtou_ynAbLv8",
        "colab_type": "text"
      },
      "cell_type": "markdown",
      "source": [
        "### Scale "
      ]
    },
    {
      "metadata": {
        "id": "bryH64BvbLv9",
        "colab_type": "code",
        "outputId": "06de474c-70b9-491c-85b0-994a50e6eeac",
        "colab": {
          "base_uri": "https://localhost:8080/",
          "height": 34
        }
      },
      "cell_type": "code",
      "source": [
        "# SCale\n",
        "X_preShuf = X_unscaled / np.max(X_unscaled)\n",
        "print(np.shape(X_preShuf))"
      ],
      "execution_count": 0,
      "outputs": [
        {
          "output_type": "stream",
          "text": [
            "(10000, 1600)\n"
          ],
          "name": "stdout"
        }
      ]
    },
    {
      "metadata": {
        "id": "_XK0_jHsbLwA",
        "colab_type": "text"
      },
      "cell_type": "markdown",
      "source": [
        "### Shuffle data and split"
      ]
    },
    {
      "metadata": {
        "id": "6JGEDBHBbLwB",
        "colab_type": "code",
        "outputId": "73111b46-e9e3-4f36-8f57-7fb987f90cba",
        "colab": {
          "base_uri": "https://localhost:8080/",
          "height": 51
        }
      },
      "cell_type": "code",
      "source": [
        "# Whether or not to use a random subset of data\n",
        "USE_SUBSET = False\n",
        "SUBSET_NUM = 4000\n",
        "\n",
        "\n",
        "# Shuffle\n",
        "from sklearn.utils import shuffle\n",
        "X, y = shuffle(X_preShuf, y_preShuf, random_state=42)\n",
        "\n",
        "\n",
        "if USE_SUBSET:\n",
        "  X = X[0:SUBSET_NUM, :]\n",
        "  y = y[0:SUBSET_NUM, :]\n",
        "\n",
        "print(np.shape(X))\n",
        "print(np.shape(y))\n"
      ],
      "execution_count": 0,
      "outputs": [
        {
          "output_type": "stream",
          "text": [
            "(10000, 1600)\n",
            "(10000, 31)\n"
          ],
          "name": "stdout"
        }
      ]
    },
    {
      "metadata": {
        "id": "MNsACJ_cbLwF",
        "colab_type": "code",
        "outputId": "3e62a3d5-979d-49e1-9adb-3eb15fdb806a",
        "colab": {
          "base_uri": "https://localhost:8080/",
          "height": 85
        }
      },
      "cell_type": "code",
      "source": [
        "# Split into sets\n",
        "from sklearn.model_selection import train_test_split\n",
        "\n",
        "X_train, X_test, y_train, y_test = train_test_split(X, y,\\\n",
        "                                                    test_size=0.20, random_state=42)\n",
        "\n",
        "print(np.shape(X_train))\n",
        "print(np.shape(X_test))\n",
        "print(np.shape(y_train))\n",
        "print(np.shape(y_test))"
      ],
      "execution_count": 0,
      "outputs": [
        {
          "output_type": "stream",
          "text": [
            "(8000, 1600)\n",
            "(2000, 1600)\n",
            "(8000, 31)\n",
            "(2000, 31)\n"
          ],
          "name": "stdout"
        }
      ]
    },
    {
      "metadata": {
        "id": "O5O1MPBUbLwJ",
        "colab_type": "text"
      },
      "cell_type": "markdown",
      "source": [
        "## Importing home-made ANN "
      ]
    },
    {
      "metadata": {
        "id": "FXxRNJMGbLwJ",
        "colab_type": "code",
        "outputId": "df9c7803-8c5d-4088-9b6b-2c096de9b4fb",
        "colab": {
          "base_uri": "https://localhost:8080/",
          "height": 68
        }
      },
      "cell_type": "code",
      "source": [
        "import homecooked_NN as hHH\n",
        "\n",
        "model = hHH.sequential_model(alpha=0.01)\n",
        "\n",
        "model.input_layer(1600)\n",
        "model.add_hidden(128, activation='sigmoid')\n",
        "#model.add_hidden(64, activation='relu')\n",
        "model.output_layer(31, activation='softmax')\n",
        "\n",
        "model.summarize()\n"
      ],
      "execution_count": 0,
      "outputs": [
        {
          "output_type": "stream",
          "text": [
            "Index 0:\t(1601, 1) --- (1601, 128) --->\n",
            "Index 1:\t(129, 1) --- (129, 31) --->\n",
            "Output layer: \t(31, 1)\n"
          ],
          "name": "stdout"
        }
      ]
    },
    {
      "metadata": {
        "id": "Grr8_JNpbLwQ",
        "colab_type": "code",
        "outputId": "0b280a91-655e-4c84-a58c-1eddcea1a39d",
        "colab": {
          "base_uri": "https://localhost:8080/",
          "height": 153
        }
      },
      "cell_type": "code",
      "source": [
        "EPOCHS = 8\n",
        "trainingMetrics = model.train(X_train, y_train,\n",
        "                              epochs=EPOCHS,\n",
        "                              validation=(X_test, y_test)\n",
        "                             )"
      ],
      "execution_count": 0,
      "outputs": [
        {
          "output_type": "stream",
          "text": [
            "Epoch 1/8\t| loss: 0.007596\t| acc: 0.657125\t| val_loss: 0.012089\t| val_acc: 0.420500\t| \n",
            "Epoch 2/8\t| loss: 0.007541\t| acc: 0.660000\t| val_loss: 0.012096\t| val_acc: 0.419500\t| \n",
            "Epoch 3/8\t| loss: 0.007486\t| acc: 0.662250\t| val_loss: 0.012105\t| val_acc: 0.419500\t| \n",
            "Epoch 4/8\t| loss: 0.007432\t| acc: 0.666375\t| val_loss: 0.012113\t| val_acc: 0.419000\t| \n",
            "Epoch 5/8\t| loss: 0.007379\t| acc: 0.669500\t| val_loss: 0.012121\t| val_acc: 0.418500\t| \n",
            "Epoch 6/8\t| loss: 0.007327\t| acc: 0.672000\t| val_loss: 0.012129\t| val_acc: 0.416500\t| \n",
            "Epoch 7/8\t| loss: 0.007274\t| acc: 0.675250\t| val_loss: 0.012138\t| val_acc: 0.416000\t| \n",
            "Epoch 8/8\t| loss: 0.007223\t| acc: 0.678125\t| val_loss: 0.012147\t| val_acc: 0.415000\t| \n"
          ],
          "name": "stdout"
        }
      ]
    },
    {
      "metadata": {
        "id": "1mgVDJaynnzV",
        "colab_type": "code",
        "outputId": "ca1b772f-8b5f-4642-8be0-4d3185e88252",
        "colab": {
          "base_uri": "https://localhost:8080/",
          "height": 294
        }
      },
      "cell_type": "code",
      "source": [
        "# Visualize the loss\n",
        "plt.figure(figsize=(15,4))\n",
        "plt.subplot(1,2,1)\n",
        "plt.plot(trainingMetrics['loss'])\n",
        "plt.plot(trainingMetrics['val_loss'])\n",
        "plt.legend(['Training','Validation'])\n",
        "plt.title('Loss')\n",
        "plt.xlabel('Epochs')\n",
        "\n",
        "plt.subplot(1,2,2)\n",
        "plt.plot(trainingMetrics['acc'])\n",
        "plt.plot(trainingMetrics['val_acc'])\n",
        "plt.legend(['Training','Validation'])\n",
        "plt.title('Accuracy')\n",
        "plt.xlabel('Epochs')\n",
        "plt.show()"
      ],
      "execution_count": 0,
      "outputs": [
        {
          "output_type": "display_data",
          "data": {
            "image/png": "[encoded data removed]",
            "text/plain": [
              "<matplotlib.figure.Figure at 0x7f338948d9e8>"
            ]
          },
          "metadata": {
            "tags": []
          }
        }
      ]
    },
    {
      "metadata": {
        "id": "iI9uAtus5sQU",
        "colab_type": "code",
        "colab": {}
      },
      "cell_type": "code",
      "source": [
        "# Save weights\n",
        "import pickle\n",
        "\n",
        "SAVE_MODEL = True\n",
        "OUT_PATH = 'model_128_sigmoid_allData.pickle'\n",
        "\n",
        "if SAVE_MODEL:\n",
        "  with open(OUT_PATH, 'wb') as handle:\n",
        "    pickle.dump(model, handle)\n"
      ],
      "execution_count": 0,
      "outputs": []
    },
    {
      "metadata": {
        "id": "dtHjgZsjgYSt",
        "colab_type": "text"
      },
      "cell_type": "markdown",
      "source": [
        "# New Section"
      ]
    },
    {
      "metadata": {
        "id": "kqixH4i3bLwV",
        "colab_type": "code",
        "colab": {}
      },
      "cell_type": "code",
      "source": [
        ""
      ],
      "execution_count": 0,
      "outputs": []
    }
  ]
}