{
 "cells": [
  {
   "cell_type": "code",
   "execution_count": 2,
   "metadata": {
    "collapsed": true
   },
   "outputs": [],
   "source": [
    "import numpy as np\n",
    "import matplotlib.pyplot as plt"
   ]
  },
  {
   "cell_type": "code",
   "execution_count": 3,
   "metadata": {},
   "outputs": [
    {
     "name": "stderr",
     "output_type": "stream",
     "text": [
      "/Users/anthony/anaconda3/envs/ImgCV/lib/python3.6/site-packages/h5py/__init__.py:34: FutureWarning: Conversion of the second argument of issubdtype from `float` to `np.floating` is deprecated. In future, it will be treated as `np.float64 == np.dtype(float).type`.\n",
      "  from ._conv import register_converters as _register_converters\n",
      "Using TensorFlow backend.\n"
     ]
    }
   ],
   "source": [
    "from __future__ import print_function\n",
    "import tensorflow as tf\n",
    "#from tensorflow import keras\n",
    "\n",
    "import keras\n",
    "from keras import layers\n",
    "\n",
    "from keras.models import Sequential\n",
    "from keras.layers import Dense, Dropout, Flatten\n",
    "from keras.layers import Conv2D, MaxPooling2D\n",
    "from keras.layers.normalization import BatchNormalization"
   ]
  },
  {
   "cell_type": "code",
   "execution_count": 9,
   "metadata": {},
   "outputs": [
    {
     "name": "stdout",
     "output_type": "stream",
     "text": [
      "(60000, 28, 28)\n",
      "(60000,)\n",
      "10\n"
     ]
    }
   ],
   "source": [
    "# import mnist\n",
    "from keras.datasets import mnist\n",
    "\n",
    "(x_train_raw, y_train_raw), (x_test_raw, y_test_raw) = mnist.load_data()\n",
    "\n",
    "print(np.shape(x_train_raw))\n",
    "print(np.shape(y_train_raw))\n",
    "print(len(set(y_train_raw)))"
   ]
  },
  {
   "cell_type": "code",
   "execution_count": 13,
   "metadata": {},
   "outputs": [
    {
     "name": "stdout",
     "output_type": "stream",
     "text": [
      "(60000, 28, 28, 1)\n"
     ]
    }
   ],
   "source": [
    "# Get labels and encode\n",
    "from sklearn.preprocessing import OneHotEncoder\n",
    "\n",
    "# reshape vectors\n",
    "y_train_raw = y_train_raw.reshape(len(y_train_raw), 1)\n",
    "y_test_raw = y_test_raw.reshape(len(y_test_raw), 1)\n",
    "\n",
    "\n",
    "# One hot encode\n",
    "encoder_OH = OneHotEncoder(sparse=False)\n",
    "\n",
    "y_preShuf_train = encoder_OH.fit_transform(y_train_raw)\n",
    "y_preShuf_test = encoder_OH.fit_transform(y_test_raw)\n",
    "\n",
    "# Shuffle\n",
    "from sklearn.utils import shuffle\n",
    "X_train_full, y_train_full = shuffle(x_train_raw, y_preShuf_train, random_state=42)\n",
    "X_test, y_test = shuffle(x_test_raw, y_preShuf_test)\n",
    "\n",
    "# Extend the dimension to RGB dimension\n",
    "X_train_full = np.expand_dims(X_train_full, axis=3)\n",
    "X_test = np.expand_dims(X_test, axis=3)\n",
    "\n",
    "print(np.shape(X_train))"
   ]
  },
  {
   "cell_type": "code",
   "execution_count": 17,
   "metadata": {},
   "outputs": [
    {
     "name": "stdout",
     "output_type": "stream",
     "text": [
      "(3000, 28, 28, 1)\n"
     ]
    }
   ],
   "source": [
    "# take subset of X train\n",
    "\n",
    "N_SUB = 3000\n",
    "\n",
    "X_train_sub = X_train_full[0:N_SUB]\n",
    "y_train_sub = y_train_full[0:N_SUB]\n",
    "\n",
    "print(np.shape(X_train_sub))"
   ]
  },
  {
   "cell_type": "markdown",
   "metadata": {},
   "source": [
    "### Define model"
   ]
  },
  {
   "cell_type": "code",
   "execution_count": 18,
   "metadata": {
    "collapsed": true
   },
   "outputs": [],
   "source": [
    "def leNet4():\n",
    "    # create model\n",
    "    model = Sequential()\n",
    "    \n",
    "    # Convolution\n",
    "    model.add(Conv2D(4, (4, 4), input_shape=(28,28,1), activation='relu'))\n",
    "    \n",
    "    # Subsampling\n",
    "    model.add(MaxPooling2D(pool_size=(2, 2)))\n",
    "    #model.add(Dropout(0.1))\n",
    "    \n",
    "    # 2nd convolution layer\n",
    "    model.add( Conv2D(16, (3, 3), activation='relu'))\n",
    "    \n",
    "    # Subsampling\n",
    "    model.add(MaxPooling2D(pool_size=(2, 2)))\n",
    "    #model.add(Dropout(0.1))\n",
    "    \n",
    "    model.add(Flatten())\n",
    "    model.add(Dense(120, activation='relu'))\n",
    "    model.add(Dropout(0.4))\n",
    "    \n",
    "    #model.add(Dense(128, activation='relu'), )\n",
    "    #model.add(Dropout(0.4))\n",
    "    \n",
    "    #model.add(Dense(40, activation='relu'), )\n",
    "    #model.add(Dropout(0.2))\n",
    "    \n",
    "    model.add(Dense(10, activation='softmax'))\n",
    "    \n",
    "    \n",
    "    # Compile model\n",
    "    model.compile(loss='categorical_crossentropy', optimizer='adam', metrics=['accuracy'])\n",
    "    \n",
    "    model.summary()\n",
    "    return model "
   ]
  },
  {
   "cell_type": "code",
   "execution_count": 19,
   "metadata": {},
   "outputs": [
    {
     "name": "stdout",
     "output_type": "stream",
     "text": [
      "_________________________________________________________________\n",
      "Layer (type)                 Output Shape              Param #   \n",
      "=================================================================\n",
      "conv2d_5 (Conv2D)            (None, 25, 25, 4)         68        \n",
      "_________________________________________________________________\n",
      "max_pooling2d_5 (MaxPooling2 (None, 12, 12, 4)         0         \n",
      "_________________________________________________________________\n",
      "conv2d_6 (Conv2D)            (None, 10, 10, 16)        592       \n",
      "_________________________________________________________________\n",
      "max_pooling2d_6 (MaxPooling2 (None, 5, 5, 16)          0         \n",
      "_________________________________________________________________\n",
      "flatten_3 (Flatten)          (None, 400)               0         \n",
      "_________________________________________________________________\n",
      "dense_4 (Dense)              (None, 120)               48120     \n",
      "_________________________________________________________________\n",
      "dropout_3 (Dropout)          (None, 120)               0         \n",
      "_________________________________________________________________\n",
      "dense_5 (Dense)              (None, 10)                1210      \n",
      "=================================================================\n",
      "Total params: 49,990\n",
      "Trainable params: 49,990\n",
      "Non-trainable params: 0\n",
      "_________________________________________________________________\n"
     ]
    }
   ],
   "source": [
    "model = leNet4()"
   ]
  },
  {
   "cell_type": "code",
   "execution_count": 22,
   "metadata": {
    "scrolled": false
   },
   "outputs": [
    {
     "name": "stdout",
     "output_type": "stream",
     "text": [
      "Train on 3000 samples, validate on 10000 samples\n",
      "Epoch 1/10\n",
      "3000/3000 [==============================] - 2s 738us/step - loss: 0.4247 - acc: 0.8650 - val_loss: 0.2991 - val_acc: 0.9145\n",
      "Epoch 2/10\n",
      "3000/3000 [==============================] - 2s 721us/step - loss: 0.3613 - acc: 0.8823 - val_loss: 0.2722 - val_acc: 0.9190\n",
      "Epoch 3/10\n",
      "3000/3000 [==============================] - 2s 724us/step - loss: 0.3196 - acc: 0.8977 - val_loss: 0.2690 - val_acc: 0.9215\n",
      "Epoch 4/10\n",
      "3000/3000 [==============================] - 2s 735us/step - loss: 0.2792 - acc: 0.9147 - val_loss: 0.2465 - val_acc: 0.9293\n",
      "Epoch 5/10\n",
      "3000/3000 [==============================] - 2s 723us/step - loss: 0.2458 - acc: 0.9220 - val_loss: 0.2439 - val_acc: 0.9305\n",
      "Epoch 6/10\n",
      "3000/3000 [==============================] - 2s 746us/step - loss: 0.2285 - acc: 0.9293 - val_loss: 0.2271 - val_acc: 0.9358\n",
      "Epoch 7/10\n",
      "3000/3000 [==============================] - 2s 746us/step - loss: 0.1888 - acc: 0.9377 - val_loss: 0.2245 - val_acc: 0.9391\n",
      "Epoch 8/10\n",
      "3000/3000 [==============================] - 2s 734us/step - loss: 0.1788 - acc: 0.9400 - val_loss: 0.2356 - val_acc: 0.9372\n",
      "Epoch 9/10\n",
      "3000/3000 [==============================] - 2s 756us/step - loss: 0.1721 - acc: 0.9410 - val_loss: 0.2281 - val_acc: 0.9398\n",
      "Epoch 10/10\n",
      "3000/3000 [==============================] - 2s 734us/step - loss: 0.1472 - acc: 0.9487 - val_loss: 0.2145 - val_acc: 0.9395\n"
     ]
    }
   ],
   "source": [
    "history = model.fit(X_train_sub, y_train_sub,\n",
    "                    epochs=10,\n",
    "                    verbose=1,\n",
    "                    batch_size=100,\n",
    "                    validation_data=(X_test, y_test)\n",
    "                   )"
   ]
  },
  {
   "cell_type": "code",
   "execution_count": null,
   "metadata": {
    "collapsed": true
   },
   "outputs": [],
   "source": []
  },
  {
   "cell_type": "code",
   "execution_count": null,
   "metadata": {
    "collapsed": true
   },
   "outputs": [],
   "source": []
  }
 ],
 "metadata": {
  "kernelspec": {
   "display_name": "Python 3",
   "language": "python",
   "name": "python3"
  },
  "language_info": {
   "codemirror_mode": {
    "name": "ipython",
    "version": 3
   },
   "file_extension": ".py",
   "mimetype": "text/x-python",
   "name": "python",
   "nbconvert_exporter": "python",
   "pygments_lexer": "ipython3",
   "version": "3.6.5"
  }
 },
 "nbformat": 4,
 "nbformat_minor": 2
}
