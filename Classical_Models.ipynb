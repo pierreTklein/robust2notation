{
 "cells": [
  {
   "cell_type": "markdown",
   "metadata": {},
   "source": [
    "# Classical Models for Classification"
   ]
  },
  {
   "cell_type": "code",
   "execution_count": 1,
   "metadata": {
    "collapsed": true
   },
   "outputs": [],
   "source": [
    "import numpy as np\n",
    "import pandas as pd\n",
    "import matplotlib.pyplot as plt"
   ]
  },
  {
   "cell_type": "markdown",
   "metadata": {},
   "source": [
    "#### Optional: Unzip dataset\n",
    "Useful if training on Colab"
   ]
  },
  {
   "cell_type": "code",
   "execution_count": 2,
   "metadata": {
    "collapsed": true
   },
   "outputs": [],
   "source": [
    "import zipfile\n",
    "\n",
    "UNZIP = False\n",
    "ZIP_FILE_PATH = \"files.zip\"\n",
    "OUT_DIR_PATH = \"./\"\n",
    "\n",
    "if UNZIP:\n",
    "    zip_ref = zipfile.ZipFile(ZIP_FILE_PATH, 'r')\n",
    "    zip_ref.extractall(OUT_DIR_PATH)\n",
    "    zip_ref.close()\n",
    "    \n",
    "del UNZIP, ZIP_FILE_PATH, OUT_DIR_PATH"
   ]
  },
  {
   "cell_type": "markdown",
   "metadata": {},
   "source": [
    "## Import data \n",
    "#### Import images (features)"
   ]
  },
  {
   "cell_type": "code",
   "execution_count": 3,
   "metadata": {},
   "outputs": [
    {
     "data": {
      "text/plain": [
       "(10000, 1, 1600)"
      ]
     },
     "execution_count": 3,
     "metadata": {},
     "output_type": "execute_result"
    }
   ],
   "source": [
    "# Set path to the processed (40x40) images\n",
    "IMGS_PATH = '/Users/anthony/Documents/Comp551_Projects/Kaggle/theo_preprocessed/processedData.npy'\n",
    "\n",
    "# Read the images\n",
    "ImageMats = np.load(IMGS_PATH)\n",
    "np.shape(ImageMats)"
   ]
  },
  {
   "cell_type": "markdown",
   "metadata": {},
   "source": [
    "#### Import labels"
   ]
  },
  {
   "cell_type": "code",
   "execution_count": 4,
   "metadata": {
    "scrolled": true
   },
   "outputs": [
    {
     "name": "stdout",
     "output_type": "stream",
     "text": [
      "10000\n"
     ]
    },
    {
     "data": {
      "text/html": [
       "<div>\n",
       "<style>\n",
       "    .dataframe thead tr:only-child th {\n",
       "        text-align: right;\n",
       "    }\n",
       "\n",
       "    .dataframe thead th {\n",
       "        text-align: left;\n",
       "    }\n",
       "\n",
       "    .dataframe tbody tr th {\n",
       "        vertical-align: top;\n",
       "    }\n",
       "</style>\n",
       "<table border=\"1\" class=\"dataframe\">\n",
       "  <thead>\n",
       "    <tr style=\"text-align: right;\">\n",
       "      <th></th>\n",
       "      <th>Id</th>\n",
       "      <th>Category</th>\n",
       "    </tr>\n",
       "  </thead>\n",
       "  <tbody>\n",
       "    <tr>\n",
       "      <th>0</th>\n",
       "      <td>0</td>\n",
       "      <td>shovel</td>\n",
       "    </tr>\n",
       "    <tr>\n",
       "      <th>1</th>\n",
       "      <td>1</td>\n",
       "      <td>rifle</td>\n",
       "    </tr>\n",
       "    <tr>\n",
       "      <th>2</th>\n",
       "      <td>2</td>\n",
       "      <td>scorpion</td>\n",
       "    </tr>\n",
       "  </tbody>\n",
       "</table>\n",
       "</div>"
      ],
      "text/plain": [
       "   Id  Category\n",
       "0   0    shovel\n",
       "1   1     rifle\n",
       "2   2  scorpion"
      ]
     },
     "execution_count": 4,
     "metadata": {},
     "output_type": "execute_result"
    }
   ],
   "source": [
    "# Set path to the label files\n",
    "LABEL_PATH = \"/Users/anthony/Documents/Comp551_Projects/Kaggle/train_labels.csv\"\n",
    "\n",
    "# Read into pandas dafatrame\n",
    "Label_df = pd.read_csv(LABEL_PATH)\n",
    "\n",
    "print(len(Label_df))\n",
    "Label_df[0:3]"
   ]
  },
  {
   "cell_type": "markdown",
   "metadata": {},
   "source": [
    "#### Illustrative example of a few images"
   ]
  },
  {
   "cell_type": "code",
   "execution_count": 5,
   "metadata": {},
   "outputs": [
    {
     "data": {
      "image/png": "[encoded data removed]",
      "text/plain": [
       "<matplotlib.figure.Figure at 0x10b347400>"
      ]
     },
     "metadata": {},
     "output_type": "display_data"
    }
   ],
   "source": [
    "NUM_SAMPLE = 6\n",
    "\n",
    "\n",
    "# Deterministically generate a few samples\n",
    "rng = np.random.RandomState(seed=0)\n",
    "randImg_indeces = rng.randint(0, len(ImageMats), size=NUM_SAMPLE)\n",
    "\n",
    "\n",
    "# Show the images\n",
    "plt.figure(figsize=(16,4))\n",
    "for i, randImgIdx in enumerate(randImg_indeces):\n",
    "    # Get current image\n",
    "    curImg = np.reshape( ImageMats[randImgIdx] , (40,40) )\n",
    "    \n",
    "    # Show image\n",
    "    plt.subplot(1,NUM_SAMPLE, (i+1))\n",
    "    plt.imshow(curImg, cmap='gray_r')\n",
    "    plt.title(str(Label_df.iloc[[randImgIdx]]['Category'].values))\n",
    "\n",
    "plt.show()"
   ]
  },
  {
   "cell_type": "markdown",
   "metadata": {},
   "source": [
    "## Pre-processing\n",
    "### Scale and flatten the features"
   ]
  },
  {
   "cell_type": "code",
   "execution_count": 6,
   "metadata": {},
   "outputs": [
    {
     "data": {
      "text/plain": [
       "(10000, 1600)"
      ]
     },
     "execution_count": 6,
     "metadata": {},
     "output_type": "execute_result"
    }
   ],
   "source": [
    "# Matrix to store the flatteneed images\n",
    "ImageVecs = np.empty((np.shape(ImageMats)[0], np.shape(ImageMats)[1]*np.shape(ImageMats)[2] ))\n",
    "\n",
    "# Flatten and store the images\n",
    "for i in range(len(ImageMats)):\n",
    "    ImageVecs[i, :] = ImageMats[i, :, :].flatten()\n",
    "    \n",
    "np.shape(ImageVecs)"
   ]
  },
  {
   "cell_type": "code",
   "execution_count": 7,
   "metadata": {},
   "outputs": [
    {
     "name": "stdout",
     "output_type": "stream",
     "text": [
      "Original range: [0.000000, 255.000000]\n",
      "Scaled range: [0.000000, 1.000000]\n"
     ]
    }
   ],
   "source": [
    "# Scale images\n",
    "X_preShuf = ImageVecs / np.max(ImageVecs)\n",
    "\n",
    "print(\"Original range: [%f, %f]\" % (np.min(ImageVecs),np.max(ImageVecs)))\n",
    "print(\"Scaled range: [%f, %f]\" % (np.min(X_preShuf),np.max(X_preShuf)))"
   ]
  },
  {
   "cell_type": "markdown",
   "metadata": {},
   "source": [
    "### Encode the labels"
   ]
  },
  {
   "cell_type": "code",
   "execution_count": 8,
   "metadata": {},
   "outputs": [
    {
     "name": "stdout",
     "output_type": "stream",
     "text": [
      "31 classes encoded:\n",
      "['apple' 'empty' 'moustache' 'mouth' 'mug' 'nail' 'nose' 'octagon'\n",
      " 'paintbrush' 'panda' 'parrot' 'peanut' 'pear' 'pencil' 'penguin' 'pillow'\n",
      " 'pineapple' 'pool' 'rabbit' 'rhinoceros' 'rifle' 'rollerskates'\n",
      " 'sailboat' 'scorpion' 'screwdriver' 'shovel' 'sink' 'skateboard' 'skull'\n",
      " 'spoon' 'squiggle']\n"
     ]
    }
   ],
   "source": [
    "from sklearn import preprocessing\n",
    "\n",
    "## Get the string labels ##\n",
    "strLabels = Label_df['Category'].values\n",
    "\n",
    "## Transform the strings into integer labels\n",
    "le = preprocessing.LabelEncoder()\n",
    "intLabels = le.fit_transform(strLabels)\n",
    "print(\"%d classes encoded:\" % (len(le.classes_)))\n",
    "print(le.classes_)"
   ]
  },
  {
   "cell_type": "code",
   "execution_count": 9,
   "metadata": {},
   "outputs": [
    {
     "name": "stdout",
     "output_type": "stream",
     "text": [
      "Label shape: (10000,)\n"
     ]
    }
   ],
   "source": [
    "# Assign y \n",
    "y_preShuf = intLabels\n",
    "print(\"Label shape: %s\" % str(np.shape(y_preShuf)))"
   ]
  },
  {
   "cell_type": "markdown",
   "metadata": {},
   "source": [
    "### Shuffle data"
   ]
  },
  {
   "cell_type": "code",
   "execution_count": 10,
   "metadata": {},
   "outputs": [
    {
     "name": "stdout",
     "output_type": "stream",
     "text": [
      "(3000, 1600)\n",
      "(3000,)\n"
     ]
    }
   ],
   "source": [
    "# Use a subset of data for time-efficient prototyping?\n",
    "USE_SUBSET = True\n",
    "SUBSET_SIZE = 3000\n",
    "\n",
    "## Shuffle data ##\n",
    "from sklearn.utils import shuffle\n",
    "X, y = shuffle(X_preShuf, y_preShuf, random_state=100)\n",
    "\n",
    "## Optionally take subset ##\n",
    "if USE_SUBSET:\n",
    "    X = X[0:SUBSET_SIZE]\n",
    "    y = y[0:SUBSET_SIZE]\n",
    "\n",
    "print(np.shape(X))\n",
    "print(np.shape(y))"
   ]
  },
  {
   "cell_type": "markdown",
   "metadata": {},
   "source": [
    "### Split into sets\n",
    "#### Split into test and training sets"
   ]
  },
  {
   "cell_type": "code",
   "execution_count": 11,
   "metadata": {},
   "outputs": [
    {
     "name": "stdout",
     "output_type": "stream",
     "text": [
      "(2400, 1600)\n",
      "(2400,)\n",
      "(600, 1600)\n",
      "(600,)\n"
     ]
    }
   ],
   "source": [
    "from sklearn.model_selection import train_test_split\n",
    "X_trainVal, X_test, y_trainVal, y_test = train_test_split(X, y, test_size=0.20, random_state=42)\n",
    "\n",
    "print(np.shape(X_trainVal))\n",
    "print(np.shape(y_trainVal))\n",
    "print(np.shape(X_test))\n",
    "print(np.shape(y_test))"
   ]
  },
  {
   "cell_type": "markdown",
   "metadata": {},
   "source": [
    "#### K-fold training and validation sets"
   ]
  },
  {
   "cell_type": "code",
   "execution_count": 12,
   "metadata": {},
   "outputs": [
    {
     "data": {
      "text/plain": [
       "KFold(n_splits=5, random_state=None, shuffle=False)"
      ]
     },
     "execution_count": 12,
     "metadata": {},
     "output_type": "execute_result"
    }
   ],
   "source": [
    "from sklearn.model_selection import KFold\n",
    "\n",
    "K_FOLD = 5\n",
    "\n",
    "# Initialize and get splits\n",
    "kf = KFold(n_splits=K_FOLD)\n",
    "kf.get_n_splits(X_trainVal)\n",
    "\n",
    "kf"
   ]
  },
  {
   "cell_type": "markdown",
   "metadata": {},
   "source": [
    "## Classical Machine Learning Models"
   ]
  },
  {
   "cell_type": "code",
   "execution_count": 36,
   "metadata": {
    "collapsed": true
   },
   "outputs": [],
   "source": [
    "from sklearn.model_selection import GridSearchCV\n",
    "from sklearn.metrics import accuracy_score\n",
    "\n",
    "# How many fold cross-validation?\n",
    "K_FOLD = 2"
   ]
  },
  {
   "cell_type": "markdown",
   "metadata": {},
   "source": [
    "### Linear Support Vector Machine"
   ]
  },
  {
   "cell_type": "code",
   "execution_count": 45,
   "metadata": {},
   "outputs": [
    {
     "name": "stdout",
     "output_type": "stream",
     "text": [
      "Fitting 2 folds for each of 6 candidates, totalling 12 fits\n"
     ]
    },
    {
     "name": "stderr",
     "output_type": "stream",
     "text": [
      "[Parallel(n_jobs=1)]: Done  12 out of  12 | elapsed:   39.9s finished\n"
     ]
    },
    {
     "data": {
      "text/plain": [
       "GridSearchCV(cv=2, error_score='raise',\n",
       "       estimator=LinearSVC(C=1.0, class_weight=None, dual=True, fit_intercept=True,\n",
       "     intercept_scaling=1, loss='squared_hinge', max_iter=1000,\n",
       "     multi_class='ovr', penalty='l2', random_state=0, tol=1e-05, verbose=0),\n",
       "       fit_params=None, iid=True, n_jobs=1,\n",
       "       param_grid={'loss': ['hinge', 'squared_hinge'], 'penalty': ['l2'], 'C': [0.1, 1.0, 10.0]},\n",
       "       pre_dispatch='2*n_jobs', refit=True, return_train_score='warn',\n",
       "       scoring=None, verbose=1)"
      ]
     },
     "execution_count": 45,
     "metadata": {},
     "output_type": "execute_result"
    }
   ],
   "source": [
    "from sklearn.svm import LinearSVC\n",
    "\n",
    "# Parameters to grid search through\n",
    "parameters = {'loss':['hinge', 'squared_hinge'],\n",
    "              'penalty':['l2'],\n",
    "              'C':[0.1, 1.0, 10.0]\n",
    "             }\n",
    "\n",
    "# Initialize model and grid search\n",
    "model = LinearSVC(random_state=0, tol=1e-5)\n",
    "clf = GridSearchCV(model, parameters, cv=K_FOLD, verbose=1)\n",
    "\n",
    "# Fit model with grid search\n",
    "clf.fit(X_trainVal, y_trainVal)"
   ]
  },
  {
   "cell_type": "code",
   "execution_count": 46,
   "metadata": {},
   "outputs": [
    {
     "name": "stdout",
     "output_type": "stream",
     "text": [
      "Best parameters found using 2-fold cross validation:\n",
      "{'C': 0.1, 'loss': 'squared_hinge', 'penalty': 'l2'}\n",
      "\n",
      "Test set accuracy: 0.268333\n"
     ]
    }
   ],
   "source": [
    "## Get best parameters ##\n",
    "best_params = clf.best_params_\n",
    "print(\"Best parameters found using %d-fold cross validation:\" % K_FOLD)\n",
    "print(best_params)\n",
    "print()\n",
    "\n",
    "## Evaluate on test set ##\n",
    "# Set best param and train model\n",
    "model.set_params(**best_params)\n",
    "model.fit(X_trainVal, y_trainVal)\n",
    "\n",
    "# See test set performance\n",
    "y_test_pred = model.predict(X_test)\n",
    "\n",
    "testAcc = accuracy_score(y_test, y_test_pred)\n",
    "print(\"Test set accuracy: %f\" % testAcc)\n",
    "\n",
    "del parameters, best_params, model, clf, y_test_pred, testAcc"
   ]
  },
  {
   "cell_type": "markdown",
   "metadata": {},
   "source": [
    "### Random Forest"
   ]
  },
  {
   "cell_type": "code",
   "execution_count": 45,
   "metadata": {},
   "outputs": [
    {
     "name": "stdout",
     "output_type": "stream",
     "text": [
      "Fitting 2 folds for each of 6 candidates, totalling 12 fits\n"
     ]
    },
    {
     "name": "stderr",
     "output_type": "stream",
     "text": [
      "[Parallel(n_jobs=1)]: Done  12 out of  12 | elapsed:   39.9s finished\n"
     ]
    },
    {
     "data": {
      "text/plain": [
       "GridSearchCV(cv=2, error_score='raise',\n",
       "       estimator=LinearSVC(C=1.0, class_weight=None, dual=True, fit_intercept=True,\n",
       "     intercept_scaling=1, loss='squared_hinge', max_iter=1000,\n",
       "     multi_class='ovr', penalty='l2', random_state=0, tol=1e-05, verbose=0),\n",
       "       fit_params=None, iid=True, n_jobs=1,\n",
       "       param_grid={'loss': ['hinge', 'squared_hinge'], 'penalty': ['l2'], 'C': [0.1, 1.0, 10.0]},\n",
       "       pre_dispatch='2*n_jobs', refit=True, return_train_score='warn',\n",
       "       scoring=None, verbose=1)"
      ]
     },
     "execution_count": 45,
     "metadata": {},
     "output_type": "execute_result"
    }
   ],
   "source": [
    "from sklearn.ensemble import RandomForestClassifier\n",
    "\n",
    "# Parameters to grid search through\n",
    "parameters = {'n_estimators':[100, 200],\n",
    "              'min_samples_split':[2,4]\n",
    "             }\n",
    "\n",
    "# Initialize model and grid search\n",
    "model = RandomForestClassifier(criterion='gini',\n",
    "                               n_jobs=None, random_state=0)\n",
    "\n",
    "clf = GridSearchCV(model, parameters, cv=K_FOLD, verbose=1)\n",
    "\n",
    "# Fit model with grid search\n",
    "clf.fit(X_trainVal, y_trainVal)"
   ]
  },
  {
   "cell_type": "code",
   "execution_count": 46,
   "metadata": {},
   "outputs": [
    {
     "name": "stdout",
     "output_type": "stream",
     "text": [
      "Best parameters found using 2-fold cross validation:\n",
      "{'C': 0.1, 'loss': 'squared_hinge', 'penalty': 'l2'}\n",
      "\n",
      "Test set accuracy: 0.268333\n"
     ]
    }
   ],
   "source": [
    "## Get best parameters ##\n",
    "best_params = clf.best_params_\n",
    "print(\"Best parameters found using %d-fold cross validation:\" % K_FOLD)\n",
    "print(best_params)\n",
    "print()\n",
    "\n",
    "## Evaluate on test set ##\n",
    "# Set best param and train model\n",
    "model.set_params(**best_params)\n",
    "model.fit(X_trainVal, y_trainVal)\n",
    "\n",
    "# See test set performance\n",
    "y_test_pred = model.predict(X_test)\n",
    "\n",
    "testAcc = accuracy_score(y_test, y_test_pred)\n",
    "print(\"Test set accuracy: %f\" % testAcc)\n",
    "\n",
    "del parameters, best_params, model, clf, y_test_pred, testAcc"
   ]
  },
  {
   "cell_type": "code",
   "execution_count": null,
   "metadata": {
    "collapsed": true
   },
   "outputs": [],
   "source": []
  }
 ],
 "metadata": {
  "kernelspec": {
   "display_name": "Python 3",
   "language": "python",
   "name": "python3"
  },
  "language_info": {
   "codemirror_mode": {
    "name": "ipython",
    "version": 3
   },
   "file_extension": ".py",
   "mimetype": "text/x-python",
   "name": "python",
   "nbconvert_exporter": "python",
   "pygments_lexer": "ipython3",
   "version": "3.6.5"
  }
 },
 "nbformat": 4,
 "nbformat_minor": 2
}
