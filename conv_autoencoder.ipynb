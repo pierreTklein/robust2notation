{
 "cells": [
  {
   "cell_type": "markdown",
   "metadata": {
    "colab_type": "text",
    "id": "jmJqZCKW-aoA"
   },
   "source": [
    "# Convolutional Autoencoder"
   ]
  },
  {
   "cell_type": "code",
   "execution_count": 0,
   "metadata": {
    "colab": {},
    "colab_type": "code",
    "collapsed": true,
    "id": "yAnAPGH5-aoB"
   },
   "outputs": [],
   "source": [
    "import numpy as np\n",
    "import pandas as pd # data processing, CSV file I/O (e.g. pd.read_csv)\n",
    "import matplotlib.pyplot as plt"
   ]
  },
  {
   "cell_type": "markdown",
   "metadata": {
    "colab_type": "text",
    "id": "tQImRKTj-aoF"
   },
   "source": [
    "### Optional file unzip"
   ]
  },
  {
   "cell_type": "code",
   "execution_count": 0,
   "metadata": {
    "colab": {},
    "colab_type": "code",
    "collapsed": true,
    "id": "wpPP5Q_4-aoH"
   },
   "outputs": [],
   "source": [
    "import zipfile\n",
    "\n",
    "UNZIP = False\n",
    "\n",
    "if UNZIP:\n",
    "    zip_ref = zipfile.ZipFile('files.zip', 'r')\n",
    "    zip_ref.extractall('./')\n",
    "    zip_ref.close()"
   ]
  },
  {
   "cell_type": "markdown",
   "metadata": {
    "colab_type": "text",
    "id": "kQWsRwGA-aoK"
   },
   "source": [
    "### Import image"
   ]
  },
  {
   "cell_type": "code",
   "execution_count": 7,
   "metadata": {
    "colab": {
     "base_uri": "https://localhost:8080/",
     "height": 34
    },
    "colab_type": "code",
    "id": "2LO0EWR6-aoM",
    "outputId": "afcf0055-5743-4be6-df6f-79f8ef06b2a8"
   },
   "outputs": [
    {
     "data": {
      "text/plain": [
       "(10000, 1, 1600)"
      ]
     },
     "execution_count": 7,
     "metadata": {},
     "output_type": "execute_result"
    }
   ],
   "source": [
    "# Set path to the processed (40x40) images\n",
    "IMGS_PATH = 'processedData.npy'\n",
    "\n",
    "# Read the images\n",
    "ImageMats = np.load(IMGS_PATH)\n",
    "np.shape(ImageMats)"
   ]
  },
  {
   "cell_type": "markdown",
   "metadata": {
    "colab_type": "text",
    "id": "hYonI-Jg-aoR"
   },
   "source": [
    "### Import labels"
   ]
  },
  {
   "cell_type": "code",
   "execution_count": 6,
   "metadata": {
    "colab": {
     "base_uri": "https://localhost:8080/",
     "height": 159
    },
    "colab_type": "code",
    "id": "8kqcqdJJ-aoS",
    "outputId": "4aa093cc-8ce1-49d1-8d71-12f5e500eaf0"
   },
   "outputs": [
    {
     "name": "stdout",
     "output_type": "stream",
     "text": [
      "10000\n"
     ]
    },
    {
     "data": {
      "text/html": [
       "<div>\n",
       "<style scoped>\n",
       "    .dataframe tbody tr th:only-of-type {\n",
       "        vertical-align: middle;\n",
       "    }\n",
       "\n",
       "    .dataframe tbody tr th {\n",
       "        vertical-align: top;\n",
       "    }\n",
       "\n",
       "    .dataframe thead th {\n",
       "        text-align: right;\n",
       "    }\n",
       "</style>\n",
       "<table border=\"1\" class=\"dataframe\">\n",
       "  <thead>\n",
       "    <tr style=\"text-align: right;\">\n",
       "      <th></th>\n",
       "      <th>Id</th>\n",
       "      <th>Category</th>\n",
       "    </tr>\n",
       "  </thead>\n",
       "  <tbody>\n",
       "    <tr>\n",
       "      <th>0</th>\n",
       "      <td>0</td>\n",
       "      <td>shovel</td>\n",
       "    </tr>\n",
       "    <tr>\n",
       "      <th>1</th>\n",
       "      <td>1</td>\n",
       "      <td>rifle</td>\n",
       "    </tr>\n",
       "    <tr>\n",
       "      <th>2</th>\n",
       "      <td>2</td>\n",
       "      <td>scorpion</td>\n",
       "    </tr>\n",
       "  </tbody>\n",
       "</table>\n",
       "</div>"
      ],
      "text/plain": [
       "   Id  Category\n",
       "0   0    shovel\n",
       "1   1     rifle\n",
       "2   2  scorpion"
      ]
     },
     "execution_count": 6,
     "metadata": {
      "tags": []
     },
     "output_type": "execute_result"
    }
   ],
   "source": [
    "LABEL_PATH = \"train_labels.csv\"\n",
    "\n",
    "Label_df = pd.read_csv(LABEL_PATH)\n",
    "print(len(Label_df))\n",
    "Label_df[0:3]"
   ]
  },
  {
   "cell_type": "markdown",
   "metadata": {
    "colab_type": "text",
    "id": "Cn5JkYMu-aoW"
   },
   "source": [
    "## Pre-process\n",
    "#### Get the images in 2D"
   ]
  },
  {
   "cell_type": "code",
   "execution_count": 8,
   "metadata": {
    "colab": {
     "base_uri": "https://localhost:8080/",
     "height": 34
    },
    "colab_type": "code",
    "id": "Qb9LTDA6-aoY",
    "outputId": "301e250b-c36c-4b06-b867-e0f169998233"
   },
   "outputs": [
    {
     "data": {
      "text/plain": [
       "(10000, 40, 40)"
      ]
     },
     "execution_count": 8,
     "metadata": {},
     "output_type": "execute_result"
    }
   ],
   "source": [
    "# Array to store the images\n",
    "Imgs_2Dset = np.empty((len(ImageMats),40,40))\n",
    "\n",
    "for i in range(len(ImageMats)):\n",
    "    Imgs_2Dset[i,:,:] = ImageMats[i].reshape((40,40))\n",
    "    \n",
    "\n",
    "np.shape(Imgs_2Dset)"
   ]
  },
  {
   "cell_type": "markdown",
   "metadata": {
    "colab_type": "text",
    "id": "RrWryEG6-aod"
   },
   "source": [
    "#### Manually add noise"
   ]
  },
  {
   "cell_type": "code",
   "execution_count": 8,
   "metadata": {
    "colab": {
     "base_uri": "https://localhost:8080/",
     "height": 34
    },
    "colab_type": "code",
    "id": "AMAmC5mm-aoe",
    "outputId": "90463854-f332-4d2a-c1e7-8c611fa5b8dc"
   },
   "outputs": [
    {
     "name": "stdout",
     "output_type": "stream",
     "text": [
      "(10000, 40, 40)\n"
     ]
    }
   ],
   "source": [
    "# Manually add noise\n",
    "N_NOISE = 600\n",
    "NOISE_INTENSITY = 225\n",
    "\n",
    "noisy_ImgSet = np.empty(np.shape(Imgs_2Dset))\n",
    "\n",
    "for i, curImg in enumerate(Imgs_2Dset):\n",
    "    # Generate noise locations\n",
    "    noise_rowCoords = np.random.randint(0,40, N_NOISE)\n",
    "    noise_colCoords = np.random.randint(0,40, N_NOISE)\n",
    "    \n",
    "    # Iterate over pixels to add noise\n",
    "    noisy_curImg = np.copy(curImg)\n",
    "    for j in range(N_NOISE):\n",
    "        noisy_curImg[noise_rowCoords[j],noise_colCoords[j]] = NOISE_INTENSITY\n",
    "        \n",
    "    # Save picture\n",
    "    noisy_ImgSet[i] = noisy_curImg\n",
    "\n",
    "\n",
    "print(np.shape(noisy_ImgSet))"
   ]
  },
  {
   "cell_type": "code",
   "execution_count": 9,
   "metadata": {
    "colab": {
     "base_uri": "https://localhost:8080/",
     "height": 252
    },
    "colab_type": "code",
    "id": "7S-lBzNu-aoh",
    "outputId": "a544262c-9126-47af-966d-de201c34816d",
    "scrolled": true
   },
   "outputs": [
    {
     "data": {
      "image/png": "[encoded data removed]",
      "text/plain": [
       "<matplotlib.figure.Figure at 0x7f488dc11588>"
      ]
     },
     "metadata": {
      "tags": []
     },
     "output_type": "display_data"
    }
   ],
   "source": [
    "randIdx = 5\n",
    "\n",
    "plt.subplot(1,2,1)\n",
    "plt.imshow(Imgs_2Dset[randIdx], cmap='gray_r')\n",
    "plt.subplot(1,2,2)\n",
    "plt.imshow(noisy_ImgSet[randIdx], cmap='gray_r')\n",
    "plt.show()"
   ]
  },
  {
   "cell_type": "markdown",
   "metadata": {
    "colab_type": "text",
    "id": "bLPMYyCP-aon"
   },
   "source": [
    "### Scale and shuffle data"
   ]
  },
  {
   "cell_type": "code",
   "execution_count": 10,
   "metadata": {
    "colab": {
     "base_uri": "https://localhost:8080/",
     "height": 51
    },
    "colab_type": "code",
    "id": "U5ZU2Tt5-aoo",
    "outputId": "028048a8-7e99-404f-b024-8082741b03d9"
   },
   "outputs": [
    {
     "name": "stdout",
     "output_type": "stream",
     "text": [
      "(10000, 40, 40)\n",
      "(10000, 40, 40)\n"
     ]
    }
   ],
   "source": [
    "# Scale clean data\n",
    "clean_X_reDim = Imgs_2Dset / np.max(Imgs_2Dset)\n",
    "\n",
    "# Scale noisy data\n",
    "noisy_X_reDim = noisy_ImgSet / np.max(noisy_ImgSet)\n",
    "\n",
    "# Shuffle both sets\n",
    "from sklearn.utils import shuffle\n",
    "clean_X_reDim, noisy_X_reDim = shuffle(clean_X_reDim, noisy_X_reDim, random_state=100)\n",
    "\n",
    "print(np.shape(clean_X_reDim))\n",
    "print(np.shape(noisy_X_reDim))"
   ]
  },
  {
   "cell_type": "code",
   "execution_count": 11,
   "metadata": {
    "colab": {
     "base_uri": "https://localhost:8080/",
     "height": 51
    },
    "colab_type": "code",
    "id": "KgF9xQxi-aot",
    "outputId": "d266cd04-3918-4818-ef0b-037514fc8350"
   },
   "outputs": [
    {
     "name": "stdout",
     "output_type": "stream",
     "text": [
      "(10000, 40, 40, 1)\n",
      "(10000, 40, 40, 1)\n"
     ]
    }
   ],
   "source": [
    "# Expand dimensions\n",
    "clean_X = np.expand_dims(clean_X_reDim, axis=3)\n",
    "print(np.shape(clean_X))\n",
    "\n",
    "noisy_X = np.expand_dims(noisy_X_reDim, axis=3)\n",
    "print(np.shape(noisy_X))"
   ]
  },
  {
   "cell_type": "markdown",
   "metadata": {
    "colab_type": "text",
    "id": "NhGAvccP-aow"
   },
   "source": [
    "#### Split into training and test sets"
   ]
  },
  {
   "cell_type": "code",
   "execution_count": 20,
   "metadata": {
    "colab": {
     "base_uri": "https://localhost:8080/",
     "height": 85
    },
    "colab_type": "code",
    "id": "dKcJJAoY-aoy",
    "outputId": "3d1b3afd-86d3-4982-d67d-8f1c213f8c5f"
   },
   "outputs": [
    {
     "name": "stdout",
     "output_type": "stream",
     "text": [
      "(6000, 40, 40, 1)\n",
      "(4000, 40, 40, 1)\n",
      "(6000, 40, 40, 1)\n",
      "(4000, 40, 40, 1)\n"
     ]
    }
   ],
   "source": [
    "from sklearn.model_selection import train_test_split\n",
    "Xtrain_clean, Xtest_clean, Xtrain_noisy, Xtest_noisy = train_test_split(clean_X, noisy_X,\n",
    "                                                                        test_size=0.40, \n",
    "                                                                        random_state=42)\n",
    "\n",
    "print(np.shape(Xtrain_clean))\n",
    "print(np.shape(Xtest_clean))\n",
    "print(np.shape(Xtrain_noisy))\n",
    "print(np.shape(Xtest_noisy))"
   ]
  },
  {
   "cell_type": "markdown",
   "metadata": {
    "colab_type": "text",
    "id": "lOejflkR-ao2"
   },
   "source": [
    "# Auto-encoding\n",
    "\n",
    "### Package import from tensorflow"
   ]
  },
  {
   "cell_type": "code",
   "execution_count": 0,
   "metadata": {
    "colab": {},
    "colab_type": "code",
    "collapsed": true,
    "id": "TBcA4lWx-ao3"
   },
   "outputs": [],
   "source": [
    "from __future__ import print_function\n",
    "import tensorflow as tf\n",
    "\n",
    "import keras\n",
    "from keras import layers\n",
    "\n",
    "from keras.models import Sequential\n",
    "from keras.models import Model\n",
    "from keras.layers import Input, Dense, Conv2D, MaxPooling2D, UpSampling2D\n",
    "from keras.layers import Dropout, Flatten\n",
    "from keras.layers.normalization import BatchNormalization\n"
   ]
  },
  {
   "cell_type": "markdown",
   "metadata": {
    "colab_type": "text",
    "id": "QnHu1GsZ-ao9"
   },
   "source": [
    "### Define model\n",
    "Tutorial: https://blog.keras.io/building-autoencoders-in-keras.html\n",
    "\n",
    "Some guidance code: https://gist.github.com/naotokui/b9fb93b8dba534b55a140e8c88ce07f5"
   ]
  },
  {
   "cell_type": "code",
   "execution_count": 0,
   "metadata": {
    "colab": {},
    "colab_type": "code",
    "collapsed": true,
    "id": "Vmy_8R4f-ao-"
   },
   "outputs": [],
   "source": [
    "def convAutoencoder():\n",
    "    input_img = Input(shape=(40, 40,1))  # adapt this if using `channels_first` image data format\n",
    "    \n",
    "    x = Conv2D(32, (3, 3), activation='relu', padding='same')(input_img)\n",
    "    x = MaxPooling2D((2, 2), padding='same')(x)\n",
    "    x = Conv2D(32, (3, 3), activation='relu', padding='same')(x)\n",
    "    encoded = MaxPooling2D((2, 2), padding='same')(x)\n",
    "\n",
    "    # at this point the representation is (7, 7, 32)\n",
    "\n",
    "    x = Conv2D(32, (3, 3), activation='relu', padding='same')(encoded)\n",
    "    x = UpSampling2D((2, 2))(x)\n",
    "    x = Conv2D(32, (3, 3), activation='relu', padding='same')(x)\n",
    "    x = UpSampling2D((2, 2))(x)\n",
    "    decoded = Conv2D(1, (3, 3), activation='sigmoid', padding='same')(x)\n",
    "\n",
    "    autoencoder = Model(input_img, decoded)\n",
    "    autoencoder.compile(optimizer='adadelta', loss='mean_squared_error')\n",
    "    \n",
    "    autoencoder.summary()\n",
    "    \n",
    "    return autoencoder"
   ]
  },
  {
   "cell_type": "code",
   "execution_count": 26,
   "metadata": {
    "colab": {
     "base_uri": "https://localhost:8080/",
     "height": 476
    },
    "colab_type": "code",
    "id": "hEEyGiFa-apC",
    "outputId": "53c5cf21-f522-496c-acfb-2dcf7ffcfa19",
    "scrolled": false
   },
   "outputs": [
    {
     "name": "stdout",
     "output_type": "stream",
     "text": [
      "_________________________________________________________________\n",
      "Layer (type)                 Output Shape              Param #   \n",
      "=================================================================\n",
      "input_3 (InputLayer)         (None, 40, 40, 1)         0         \n",
      "_________________________________________________________________\n",
      "conv2d_11 (Conv2D)           (None, 40, 40, 32)        320       \n",
      "_________________________________________________________________\n",
      "max_pooling2d_5 (MaxPooling2 (None, 20, 20, 32)        0         \n",
      "_________________________________________________________________\n",
      "conv2d_12 (Conv2D)           (None, 20, 20, 32)        9248      \n",
      "_________________________________________________________________\n",
      "max_pooling2d_6 (MaxPooling2 (None, 10, 10, 32)        0         \n",
      "_________________________________________________________________\n",
      "conv2d_13 (Conv2D)           (None, 10, 10, 32)        9248      \n",
      "_________________________________________________________________\n",
      "up_sampling2d_5 (UpSampling2 (None, 20, 20, 32)        0         \n",
      "_________________________________________________________________\n",
      "conv2d_14 (Conv2D)           (None, 20, 20, 32)        9248      \n",
      "_________________________________________________________________\n",
      "up_sampling2d_6 (UpSampling2 (None, 40, 40, 32)        0         \n",
      "_________________________________________________________________\n",
      "conv2d_15 (Conv2D)           (None, 40, 40, 1)         289       \n",
      "=================================================================\n",
      "Total params: 28,353\n",
      "Trainable params: 28,353\n",
      "Non-trainable params: 0\n",
      "_________________________________________________________________\n"
     ]
    }
   ],
   "source": [
    "conv_encoder = convAutoencoder()"
   ]
  },
  {
   "cell_type": "code",
   "execution_count": 27,
   "metadata": {
    "colab": {
     "base_uri": "https://localhost:8080/",
     "height": 1734
    },
    "colab_type": "code",
    "id": "tnXoyr_i-apJ",
    "outputId": "0571f81b-673e-4168-b08c-50bf8bebf4c4",
    "scrolled": true
   },
   "outputs": [
    {
     "name": "stdout",
     "output_type": "stream",
     "text": [
      "Train on 6000 samples, validate on 4000 samples\n",
      "Epoch 1/50\n",
      "6000/6000 [==============================] - 4s 637us/step - loss: 0.0732 - val_loss: 0.0446\n",
      "Epoch 2/50\n",
      "6000/6000 [==============================] - 3s 549us/step - loss: 0.0376 - val_loss: 0.0329\n",
      "Epoch 3/50\n",
      "6000/6000 [==============================] - 3s 530us/step - loss: 0.0309 - val_loss: 0.0292\n",
      "Epoch 4/50\n",
      "6000/6000 [==============================] - 3s 571us/step - loss: 0.0271 - val_loss: 0.0279\n",
      "Epoch 5/50\n",
      "6000/6000 [==============================] - 4s 596us/step - loss: 0.0249 - val_loss: 0.0242\n",
      "Epoch 6/50\n",
      "6000/6000 [==============================] - 3s 537us/step - loss: 0.0232 - val_loss: 0.0240\n",
      "Epoch 7/50\n",
      "6000/6000 [==============================] - 3s 542us/step - loss: 0.0224 - val_loss: 0.0223\n",
      "Epoch 8/50\n",
      "6000/6000 [==============================] - 3s 540us/step - loss: 0.0218 - val_loss: 0.0236\n",
      "Epoch 9/50\n",
      "6000/6000 [==============================] - 3s 524us/step - loss: 0.0209 - val_loss: 0.0202\n",
      "Epoch 10/50\n",
      "6000/6000 [==============================] - 3s 530us/step - loss: 0.0204 - val_loss: 0.0202\n",
      "Epoch 11/50\n",
      "6000/6000 [==============================] - 3s 525us/step - loss: 0.0201 - val_loss: 0.0198\n",
      "Epoch 12/50\n",
      "6000/6000 [==============================] - 3s 520us/step - loss: 0.0197 - val_loss: 0.0192\n",
      "Epoch 13/50\n",
      "6000/6000 [==============================] - 3s 518us/step - loss: 0.0193 - val_loss: 0.0203\n",
      "Epoch 14/50\n",
      "6000/6000 [==============================] - 3s 516us/step - loss: 0.0190 - val_loss: 0.0187\n",
      "Epoch 15/50\n",
      "6000/6000 [==============================] - 3s 536us/step - loss: 0.0187 - val_loss: 0.0189\n",
      "Epoch 16/50\n",
      "6000/6000 [==============================] - 3s 531us/step - loss: 0.0184 - val_loss: 0.0181\n",
      "Epoch 17/50\n",
      "6000/6000 [==============================] - 3s 515us/step - loss: 0.0182 - val_loss: 0.0181\n",
      "Epoch 18/50\n",
      "6000/6000 [==============================] - 3s 521us/step - loss: 0.0179 - val_loss: 0.0186\n",
      "Epoch 19/50\n",
      "6000/6000 [==============================] - 3s 519us/step - loss: 0.0176 - val_loss: 0.0173\n",
      "Epoch 20/50\n",
      "6000/6000 [==============================] - 3s 519us/step - loss: 0.0175 - val_loss: 0.0180\n",
      "Epoch 21/50\n",
      "6000/6000 [==============================] - 3s 515us/step - loss: 0.0172 - val_loss: 0.0170\n",
      "Epoch 22/50\n",
      "6000/6000 [==============================] - 3s 517us/step - loss: 0.0170 - val_loss: 0.0168\n",
      "Epoch 23/50\n",
      "6000/6000 [==============================] - 3s 515us/step - loss: 0.0169 - val_loss: 0.0169\n",
      "Epoch 24/50\n",
      "6000/6000 [==============================] - 3s 522us/step - loss: 0.0168 - val_loss: 0.0165\n",
      "Epoch 25/50\n",
      "6000/6000 [==============================] - 3s 515us/step - loss: 0.0165 - val_loss: 0.0170\n",
      "Epoch 26/50\n",
      "6000/6000 [==============================] - 3s 516us/step - loss: 0.0164 - val_loss: 0.0162\n",
      "Epoch 27/50\n",
      "6000/6000 [==============================] - 3s 515us/step - loss: 0.0164 - val_loss: 0.0166\n",
      "Epoch 28/50\n",
      "6000/6000 [==============================] - 3s 513us/step - loss: 0.0161 - val_loss: 0.0164\n",
      "Epoch 29/50\n",
      "6000/6000 [==============================] - 3s 515us/step - loss: 0.0160 - val_loss: 0.0170\n",
      "Epoch 30/50\n",
      "6000/6000 [==============================] - 3s 516us/step - loss: 0.0159 - val_loss: 0.0175\n",
      "Epoch 31/50\n",
      "6000/6000 [==============================] - 3s 519us/step - loss: 0.0158 - val_loss: 0.0163\n",
      "Epoch 32/50\n",
      "6000/6000 [==============================] - 3s 518us/step - loss: 0.0157 - val_loss: 0.0155\n",
      "Epoch 33/50\n",
      "6000/6000 [==============================] - 3s 515us/step - loss: 0.0156 - val_loss: 0.0156\n",
      "Epoch 34/50\n",
      "6000/6000 [==============================] - 3s 515us/step - loss: 0.0154 - val_loss: 0.0156\n",
      "Epoch 35/50\n",
      "6000/6000 [==============================] - 3s 514us/step - loss: 0.0153 - val_loss: 0.0152\n",
      "Epoch 36/50\n",
      "6000/6000 [==============================] - 3s 517us/step - loss: 0.0152 - val_loss: 0.0152\n",
      "Epoch 37/50\n",
      "6000/6000 [==============================] - 3s 523us/step - loss: 0.0151 - val_loss: 0.0152\n",
      "Epoch 38/50\n",
      "6000/6000 [==============================] - 3s 531us/step - loss: 0.0150 - val_loss: 0.0154\n",
      "Epoch 39/50\n",
      "6000/6000 [==============================] - 3s 536us/step - loss: 0.0149 - val_loss: 0.0151\n",
      "Epoch 40/50\n",
      "6000/6000 [==============================] - 3s 527us/step - loss: 0.0148 - val_loss: 0.0152\n",
      "Epoch 41/50\n",
      "6000/6000 [==============================] - 3s 519us/step - loss: 0.0147 - val_loss: 0.0152\n",
      "Epoch 42/50\n",
      "6000/6000 [==============================] - 3s 515us/step - loss: 0.0146 - val_loss: 0.0148\n",
      "Epoch 43/50\n",
      "6000/6000 [==============================] - 3s 547us/step - loss: 0.0145 - val_loss: 0.0148\n",
      "Epoch 44/50\n",
      "6000/6000 [==============================] - 3s 537us/step - loss: 0.0144 - val_loss: 0.0144\n",
      "Epoch 45/50\n",
      "6000/6000 [==============================] - 4s 595us/step - loss: 0.0144 - val_loss: 0.0145\n",
      "Epoch 46/50\n",
      "6000/6000 [==============================] - 4s 634us/step - loss: 0.0142 - val_loss: 0.0142\n",
      "Epoch 47/50\n",
      "6000/6000 [==============================] - 4s 647us/step - loss: 0.0141 - val_loss: 0.0143\n",
      "Epoch 48/50\n",
      "6000/6000 [==============================] - 4s 659us/step - loss: 0.0140 - val_loss: 0.0141\n",
      "Epoch 49/50\n",
      "6000/6000 [==============================] - 4s 653us/step - loss: 0.0140 - val_loss: 0.0140\n",
      "Epoch 50/50\n",
      "6000/6000 [==============================] - 4s 650us/step - loss: 0.0139 - val_loss: 0.0139\n"
     ]
    }
   ],
   "source": [
    "history = conv_encoder.fit(Xtrain_noisy, Xtrain_clean,\n",
    "                           epochs=50,\n",
    "                           batch_size=32,\n",
    "                           shuffle=True,\n",
    "                           validation_data=(Xtest_noisy, Xtest_clean)\n",
    "                          )"
   ]
  },
  {
   "cell_type": "code",
   "execution_count": 28,
   "metadata": {
    "colab": {
     "base_uri": "https://localhost:8080/",
     "height": 362
    },
    "colab_type": "code",
    "id": "7FoeVWDd-apN",
    "outputId": "cda068eb-c367-4ce0-8208-6c94cbc01482"
   },
   "outputs": [
    {
     "data": {
      "image/png": "[encoded data removed]",
      "text/plain": [
       "<matplotlib.figure.Figure at 0x7f4844695e48>"
      ]
     },
     "metadata": {
      "tags": []
     },
     "output_type": "display_data"
    }
   ],
   "source": [
    "# Visualize loss\n",
    "plt.plot(history.history['loss'])\n",
    "plt.plot(history.history['val_loss'])\n",
    "plt.title(\"loss\")\n",
    "plt.legend(['Train','Validation'])\n",
    "plt.show()"
   ]
  },
  {
   "cell_type": "markdown",
   "metadata": {
    "colab_type": "text",
    "id": "5NX-Iqrn-apR"
   },
   "source": [
    "### Save model"
   ]
  },
  {
   "cell_type": "code",
   "execution_count": 0,
   "metadata": {
    "colab": {},
    "colab_type": "code",
    "collapsed": true,
    "id": "p1gHMSDH-apR"
   },
   "outputs": [],
   "source": [
    "# Save weights\n",
    "import pickle\n",
    "\n",
    "SAVE_MODEL = True\n",
    "OUT_PATH = 'convAutoencoder.pickle'\n",
    "\n",
    "if SAVE_MODEL:\n",
    "    # Package the model and history\n",
    "    outDict = {}\n",
    "    outDict['model'] = conv_encoder\n",
    "    outDict['history'] = history\n",
    "    \n",
    "    # Dump\n",
    "    pickle.dump( outDict, open( OUT_PATH, \"wb\" ) )\n",
    "    "
   ]
  },
  {
   "cell_type": "markdown",
   "metadata": {
    "colab_type": "text",
    "id": "bvRhqQzG-apV"
   },
   "source": [
    "# Load model and analyze"
   ]
  },
  {
   "cell_type": "code",
   "execution_count": 1,
   "metadata": {
    "colab": {},
    "colab_type": "code",
    "collapsed": true,
    "id": "4M8h00Eu-apW"
   },
   "outputs": [],
   "source": [
    "import numpy as np\n",
    "import pandas as pd # data processing, CSV file I/O (e.g. pd.read_csv)\n",
    "import matplotlib.pyplot as plt"
   ]
  },
  {
   "cell_type": "code",
   "execution_count": 2,
   "metadata": {
    "colab": {},
    "colab_type": "code",
    "id": "sCADve-5-apY",
    "outputId": "b534f6a4-564f-428d-c17a-7ce431d69208",
    "scrolled": true
   },
   "outputs": [
    {
     "name": "stderr",
     "output_type": "stream",
     "text": [
      "/Users/anthony/anaconda3/envs/ImgCV/lib/python3.6/site-packages/h5py/__init__.py:34: FutureWarning: Conversion of the second argument of issubdtype from `float` to `np.floating` is deprecated. In future, it will be treated as `np.float64 == np.dtype(float).type`.\n",
      "  from ._conv import register_converters as _register_converters\n",
      "Using TensorFlow backend.\n"
     ]
    }
   ],
   "source": [
    "from __future__ import print_function\n",
    "import tensorflow as tf\n",
    "\n",
    "import keras\n",
    "from keras import layers\n",
    "\n",
    "from keras.models import Sequential\n",
    "from keras.models import Model\n",
    "from keras.layers import Input, Dense, Conv2D, MaxPooling2D, UpSampling2D\n",
    "from keras.layers import Dropout, Flatten\n"
   ]
  },
  {
   "cell_type": "markdown",
   "metadata": {
    "colab_type": "text",
    "id": "ws1qAAZz-apc"
   },
   "source": [
    "### Load model pickle"
   ]
  },
  {
   "cell_type": "code",
   "execution_count": 4,
   "metadata": {
    "colab": {},
    "colab_type": "code",
    "id": "AOGSryto-apd"
   },
   "outputs": [],
   "source": [
    "import pickle\n",
    "\n",
    "MODEL_DICT_PATH = '/Users/anthony/Documents/Comp551_Projects/Kaggle/autoencode_2018-11-26/convAutoencoder.pickle'\n",
    "\n",
    "convAuto_dict = pickle.load( open( MODEL_DICT_PATH, \"rb\" ) )"
   ]
  },
  {
   "cell_type": "markdown",
   "metadata": {},
   "source": [
    "#### Unpack model and training history"
   ]
  },
  {
   "cell_type": "code",
   "execution_count": 5,
   "metadata": {},
   "outputs": [
    {
     "name": "stdout",
     "output_type": "stream",
     "text": [
      "<keras.engine.training.Model object at 0x1178ce438>\n",
      "<keras.callbacks.History object at 0x117a0a630>\n"
     ]
    }
   ],
   "source": [
    "convDenoiser = convAuto_dict['model']\n",
    "print(convDenoiser)\n",
    "\n",
    "trHistory = convAuto_dict['history']\n",
    "print(trHistory)"
   ]
  },
  {
   "cell_type": "markdown",
   "metadata": {},
   "source": [
    "### Load images and add new noise\n",
    "Can be ran independently from the blocks before the autoencoder training (since training might be done on CoLab)"
   ]
  },
  {
   "cell_type": "code",
   "execution_count": 9,
   "metadata": {
    "colab": {
     "base_uri": "https://localhost:8080/",
     "height": 34
    },
    "colab_type": "code",
    "id": "2LO0EWR6-aoM",
    "outputId": "afcf0055-5743-4be6-df6f-79f8ef06b2a8"
   },
   "outputs": [
    {
     "data": {
      "text/plain": [
       "(10000, 1, 1600)"
      ]
     },
     "execution_count": 9,
     "metadata": {},
     "output_type": "execute_result"
    }
   ],
   "source": [
    "# Set path to the processed (40x40) images\n",
    "IMGS_PATH = '/Users/anthony/Documents/Comp551_Projects/Kaggle/theo_preprocessed/processedData.npy'\n",
    "\n",
    "# Read the images\n",
    "ImageMats = np.load(IMGS_PATH)\n",
    "np.shape(ImageMats)"
   ]
  },
  {
   "cell_type": "code",
   "execution_count": 10,
   "metadata": {
    "colab": {
     "base_uri": "https://localhost:8080/",
     "height": 34
    },
    "colab_type": "code",
    "id": "AMAmC5mm-aoe",
    "outputId": "90463854-f332-4d2a-c1e7-8c611fa5b8dc"
   },
   "outputs": [
    {
     "name": "stdout",
     "output_type": "stream",
     "text": [
      "(10000, 40, 40)\n"
     ]
    }
   ],
   "source": [
    "# Manually add noise\n",
    "N_NOISE = 600\n",
    "NOISE_INTENSITY = 225\n",
    "\n",
    "noisy_ImgSet = np.empty(np.shape(Imgs_2Dset))\n",
    "\n",
    "for i, curImg in enumerate(Imgs_2Dset):\n",
    "    # Generate noise locations\n",
    "    noise_rowCoords = np.random.randint(0,40, N_NOISE)\n",
    "    noise_colCoords = np.random.randint(0,40, N_NOISE)\n",
    "    \n",
    "    # Iterate over pixels to add noise\n",
    "    noisy_curImg = np.copy(curImg)\n",
    "    for j in range(N_NOISE):\n",
    "        noisy_curImg[noise_rowCoords[j],noise_colCoords[j]] = NOISE_INTENSITY\n",
    "        \n",
    "    # Save picture\n",
    "    noisy_ImgSet[i] = noisy_curImg\n",
    "\n",
    "\n",
    "print(np.shape(noisy_ImgSet))"
   ]
  },
  {
   "cell_type": "code",
   "execution_count": 11,
   "metadata": {
    "colab": {
     "base_uri": "https://localhost:8080/",
     "height": 51
    },
    "colab_type": "code",
    "id": "U5ZU2Tt5-aoo",
    "outputId": "028048a8-7e99-404f-b024-8082741b03d9"
   },
   "outputs": [
    {
     "name": "stdout",
     "output_type": "stream",
     "text": [
      "(10000, 40, 40)\n",
      "(10000, 40, 40)\n"
     ]
    }
   ],
   "source": [
    "# Scale clean data\n",
    "clean_X_reDim = Imgs_2Dset / np.max(Imgs_2Dset)\n",
    "\n",
    "# Scale noisy data\n",
    "noisy_X_reDim = noisy_ImgSet / np.max(noisy_ImgSet)\n",
    "\n",
    "# Shuffle both sets\n",
    "from sklearn.utils import shuffle\n",
    "clean_X_reDim, noisy_X_reDim = shuffle(clean_X_reDim, noisy_X_reDim, random_state=100)\n",
    "\n",
    "print(np.shape(clean_X_reDim))\n",
    "print(np.shape(noisy_X_reDim))"
   ]
  },
  {
   "cell_type": "code",
   "execution_count": 12,
   "metadata": {
    "colab": {
     "base_uri": "https://localhost:8080/",
     "height": 51
    },
    "colab_type": "code",
    "id": "KgF9xQxi-aot",
    "outputId": "d266cd04-3918-4818-ef0b-037514fc8350"
   },
   "outputs": [
    {
     "name": "stdout",
     "output_type": "stream",
     "text": [
      "(10000, 40, 40, 1)\n",
      "(10000, 40, 40, 1)\n"
     ]
    }
   ],
   "source": [
    "# Expand dimensions\n",
    "clean_X = np.expand_dims(clean_X_reDim, axis=3)\n",
    "print(np.shape(clean_X))\n",
    "\n",
    "noisy_X = np.expand_dims(noisy_X_reDim, axis=3)\n",
    "print(np.shape(noisy_X))"
   ]
  },
  {
   "cell_type": "markdown",
   "metadata": {},
   "source": [
    "## Predict and analyze\n",
    "### Predict the noisy image set again for denoising"
   ]
  },
  {
   "cell_type": "code",
   "execution_count": 13,
   "metadata": {},
   "outputs": [
    {
     "data": {
      "text/plain": [
       "(10000, 40, 40, 1)"
      ]
     },
     "execution_count": 13,
     "metadata": {},
     "output_type": "execute_result"
    }
   ],
   "source": [
    "pred_clean_X = convDenoiser.predict(noisy_X)\n",
    "\n",
    "np.shape(pred_clean_X)"
   ]
  },
  {
   "cell_type": "markdown",
   "metadata": {},
   "source": [
    "### Analyze outcome"
   ]
  },
  {
   "cell_type": "code",
   "execution_count": 28,
   "metadata": {
    "colab": {},
    "colab_type": "code",
    "id": "LZ3O3e82-api",
    "outputId": "a38c27d2-2eef-45df-ae8f-8911bb6c168e",
    "scrolled": false
   },
   "outputs": [
    {
     "data": {
      "image/png": "[encoded data removed]",
      "text/plain": [
       "<matplotlib.figure.Figure at 0x187aba2f60>"
      ]
     },
     "metadata": {},
     "output_type": "display_data"
    },
    {
     "data": {
      "image/png": "[encoded data removed]",
      "text/plain": [
       "<matplotlib.figure.Figure at 0x187b0cd198>"
      ]
     },
     "metadata": {},
     "output_type": "display_data"
    },
    {
     "data": {
      "image/png": "[encoded data removed]",
      "text/plain": [
       "<matplotlib.figure.Figure at 0x187aedce48>"
      ]
     },
     "metadata": {},
     "output_type": "display_data"
    },
    {
     "data": {
      "image/png": "[encoded data removed]",
      "text/plain": [
       "<matplotlib.figure.Figure at 0x187ad93668>"
      ]
     },
     "metadata": {},
     "output_type": "display_data"
    },
    {
     "data": {
      "image/png": "[encoded data removed]",
      "text/plain": [
       "<matplotlib.figure.Figure at 0x187aed45f8>"
      ]
     },
     "metadata": {},
     "output_type": "display_data"
    }
   ],
   "source": [
    "NUM_SAMPLE = 5\n",
    "\n",
    "# Deterministically generate a few samples\n",
    "rng = np.random.RandomState(seed=0)\n",
    "randImg_indeces = rng.randint(0, len(ImageMats), size=NUM_SAMPLE)\n",
    "\n",
    "\n",
    "for rand_i in randImg_indeces:\n",
    "    plt.figure(figsize=(8, 2))\n",
    "    plt.subplot(1,3,1)\n",
    "    plt.imshow(clean_X[rand_i,:,:,0], cmap='gray_r')\n",
    "    plt.title(\"Original Image\")\n",
    "    \n",
    "    plt.subplot(1,3,2)\n",
    "    plt.imshow(noisy_X[rand_i,:,:,0], cmap='gray_r')\n",
    "    plt.title(\"Added Noise\")\n",
    "    \n",
    "    plt.subplot(1,3,3)\n",
    "    plt.imshow(pred_clean_X[rand_i,:,:,0], cmap='gray_r')\n",
    "    plt.title(\"Reconstruction\")\n",
    "    plt.show()"
   ]
  },
  {
   "cell_type": "markdown",
   "metadata": {},
   "source": [
    "## Apply the denoiser to the clean image"
   ]
  },
  {
   "cell_type": "code",
   "execution_count": 19,
   "metadata": {},
   "outputs": [
    {
     "data": {
      "text/plain": [
       "(10000, 40, 40, 1)"
      ]
     },
     "execution_count": 19,
     "metadata": {},
     "output_type": "execute_result"
    }
   ],
   "source": [
    "cleaner_X = convDenoiser.predict(clean_X)\n",
    "\n",
    "np.shape(cleaner_X)"
   ]
  },
  {
   "cell_type": "code",
   "execution_count": 26,
   "metadata": {
    "colab": {},
    "colab_type": "code",
    "id": "LZ3O3e82-api",
    "outputId": "a38c27d2-2eef-45df-ae8f-8911bb6c168e",
    "scrolled": false
   },
   "outputs": [
    {
     "data": {
      "image/png": "[encoded data removed]",
      "text/plain": [
       "<matplotlib.figure.Figure at 0x187a94eac8>"
      ]
     },
     "metadata": {},
     "output_type": "display_data"
    },
    {
     "data": {
      "image/png": "[encoded data removed]",
      "text/plain": [
       "<matplotlib.figure.Figure at 0x187a9f3860>"
      ]
     },
     "metadata": {},
     "output_type": "display_data"
    },
    {
     "data": {
      "image/png": "[encoded data removed]",
      "text/plain": [
       "<matplotlib.figure.Figure at 0x187ab83f98>"
      ]
     },
     "metadata": {},
     "output_type": "display_data"
    },
    {
     "data": {
      "image/png": "[encoded data removed]",
      "text/plain": [
       "<matplotlib.figure.Figure at 0x187aca3e10>"
      ]
     },
     "metadata": {},
     "output_type": "display_data"
    },
    {
     "data": {
      "image/png": "[encoded data removed]",
      "text/plain": [
       "<matplotlib.figure.Figure at 0x187aa56588>"
      ]
     },
     "metadata": {},
     "output_type": "display_data"
    },
    {
     "data": {
      "image/png": "[encoded data removed]",
      "text/plain": [
       "<matplotlib.figure.Figure at 0x187b1d6588>"
      ]
     },
     "metadata": {},
     "output_type": "display_data"
    },
    {
     "data": {
      "image/png": "[encoded data removed]",
      "text/plain": [
       "<matplotlib.figure.Figure at 0x187aa644a8>"
      ]
     },
     "metadata": {},
     "output_type": "display_data"
    },
    {
     "data": {
      "image/png": "[encoded data removed]",
      "text/plain": [
       "<matplotlib.figure.Figure at 0x187abd6a20>"
      ]
     },
     "metadata": {},
     "output_type": "display_data"
    },
    {
     "data": {
      "image/png": "[encoded data removed]",
      "text/plain": [
       "<matplotlib.figure.Figure at 0x187b3b6a58>"
      ]
     },
     "metadata": {},
     "output_type": "display_data"
    }
   ],
   "source": [
    "NUM_SAMPLE = 9\n",
    "\n",
    "# Deterministically generate a few samples\n",
    "rng = np.random.RandomState(seed=42)\n",
    "randImg_indeces = rng.randint(0, len(ImageMats), size=NUM_SAMPLE)\n",
    "\n",
    "\n",
    "for rand_i in randImg_indeces:\n",
    "    plt.figure(figsize=(6, 2))\n",
    "    \n",
    "    plt.subplot(1,2,1)\n",
    "    plt.imshow(clean_X[rand_i,:,:,0], cmap='gray_r')\n",
    "    plt.title(\"Original Image\")\n",
    "    \n",
    "    plt.subplot(1,2,2)\n",
    "    plt.imshow(cleaner_X[rand_i,:,:,0], cmap='gray_r')\n",
    "    plt.title(\"Denoised Original\")\n",
    "    \n",
    "    plt.show()"
   ]
  },
  {
   "cell_type": "code",
   "execution_count": null,
   "metadata": {
    "collapsed": true
   },
   "outputs": [],
   "source": []
  },
  {
   "cell_type": "code",
   "execution_count": null,
   "metadata": {
    "collapsed": true
   },
   "outputs": [],
   "source": []
  },
  {
   "cell_type": "code",
   "execution_count": 0,
   "metadata": {
    "colab": {},
    "colab_type": "code",
    "collapsed": true,
    "id": "cxwXlU32-aqB"
   },
   "outputs": [],
   "source": []
  },
  {
   "cell_type": "code",
   "execution_count": 0,
   "metadata": {
    "colab": {},
    "colab_type": "code",
    "collapsed": true,
    "id": "JLNAT3xS-aqG"
   },
   "outputs": [],
   "source": []
  }
 ],
 "metadata": {
  "accelerator": "GPU",
  "colab": {
   "collapsed_sections": [],
   "name": "conv_autoencoder.ipynb",
   "provenance": [],
   "toc_visible": true,
   "version": "0.3.2"
  },
  "kernelspec": {
   "display_name": "Python 3",
   "language": "python",
   "name": "python3"
  },
  "language_info": {
   "codemirror_mode": {
    "name": "ipython",
    "version": 3
   },
   "file_extension": ".py",
   "mimetype": "text/x-python",
   "name": "python",
   "nbconvert_exporter": "python",
   "pygments_lexer": "ipython3",
   "version": "3.6.5"
  }
 },
 "nbformat": 4,
 "nbformat_minor": 1
}
