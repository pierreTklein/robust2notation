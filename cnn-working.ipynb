{
  "nbformat": 4,
  "nbformat_minor": 0,
  "metadata": {
    "colab": {
      "name": "Copy of cnn.ipynb",
      "version": "0.3.2",
      "provenance": [],
      "collapsed_sections": [],
      "toc_visible": true
    },
    "kernelspec": {
      "name": "python3",
      "display_name": "Python 3"
    },
    "accelerator": "GPU"
  },
  "cells": [
    {
      "metadata": {
        "trusted": true,
        "_uuid": "708cd045e1075dd000ef2dc473c7f7e34d66c4d8",
        "id": "5GE47jkZGgde",
        "colab_type": "code",
        "outputId": "4926fce0-a5b7-4a0f-aca6-134031111e7a",
        "colab": {
          "base_uri": "https://localhost:8080/",
          "height": 36
        }
      },
      "cell_type": "code",
      "source": [
        "import sys\n",
        "sys.version\n",
        "sys.version_info"
      ],
      "execution_count": 1,
      "outputs": [
        {
          "output_type": "execute_result",
          "data": {
            "text/plain": [
              "sys.version_info(major=3, minor=6, micro=7, releaselevel='final', serial=0)"
            ]
          },
          "metadata": {
            "tags": []
          },
          "execution_count": 1
        }
      ]
    },
    {
      "metadata": {
        "id": "3-HGhYAKS7X5",
        "colab_type": "code",
        "outputId": "a6973579-66c4-483d-e120-517ce8851865",
        "colab": {
          "base_uri": "https://localhost:8080/",
          "height": 36
        }
      },
      "cell_type": "code",
      "source": [
        "from google.colab import drive\n",
        "drive.mount('/content/drive', force_remount=True)"
      ],
      "execution_count": 11,
      "outputs": [
        {
          "output_type": "stream",
          "text": [
            "Mounted at /content/drive\n"
          ],
          "name": "stdout"
        }
      ]
    },
    {
      "metadata": {
        "trusted": true,
        "_uuid": "91dd3505a3043f1fe216ca383bc447c0eba8ef1e",
        "id": "xkNSoUgVGgdi",
        "colab_type": "code",
        "colab": {
          "base_uri": "https://localhost:8080/",
          "height": 36
        },
        "outputId": "f147f007-c0b4-49cb-ed87-20870b1fbbc1"
      },
      "cell_type": "code",
      "source": [
        "from keras.utils import to_categorical\n",
        "import numpy as np\n",
        "import pandas as pd # data processing, CSV file I/O (e.g. pd.read_csv)\n",
        "from sklearn.model_selection import train_test_split"
      ],
      "execution_count": 2,
      "outputs": [
        {
          "output_type": "stream",
          "text": [
            "Using TensorFlow backend.\n"
          ],
          "name": "stderr"
        }
      ]
    },
    {
      "metadata": {
        "id": "aNgkAUrtJ4dP",
        "colab_type": "code",
        "colab": {}
      },
      "cell_type": "code",
      "source": [
        "ZIPPED_ORIGINAL = \"/content/drive/My Drive/processedData.zip\"\n",
        "# ZIPPED_DATA = \"/content/drive/My Drive/extendedData.zip\"\n",
        "# ZIPPED_KAGGLE = \"/content/drive/My Drive/processed_kaggle.zip\"\n",
        "# ZIPPED_ORIGINAL_CV2 = \"/content/drive/My Drive/preprocessed_CV2.zip\"\n",
        "# ZIPPED_KAGGLE_CV2 = \"/content/drive/My Drive/processed_kaggle_CV2.zip\""
      ],
      "execution_count": 0,
      "outputs": []
    },
    {
      "metadata": {
        "id": "iGCwzpWZJ0Cu",
        "colab_type": "code",
        "colab": {}
      },
      "cell_type": "code",
      "source": [
        "import zipfile\n",
        "with zipfile.ZipFile(ZIPPED_DATA,\"r\") as zip_ref:\n",
        "    zip_ref.extractall(\"./data\")\n",
        "    zip_ref.close()"
      ],
      "execution_count": 0,
      "outputs": []
    },
    {
      "metadata": {
        "id": "0CsZv7QqUzOo",
        "colab_type": "code",
        "colab": {}
      },
      "cell_type": "code",
      "source": [
        "with zipfile.ZipFile(ZIPPED_KAGGLE, \"r\") as kagzip:\n",
        "    kagzip.extractall(\"./data\")\n",
        "    kagzip.close()"
      ],
      "execution_count": 0,
      "outputs": []
    },
    {
      "metadata": {
        "id": "T_vV0t9g3RIc",
        "colab_type": "code",
        "colab": {}
      },
      "cell_type": "code",
      "source": [
        "with zipfile.ZipFile(ZIPPED_ORIGINAL, \"r\") as origzip:\n",
        "    origzip.extractall(\"./data\")\n",
        "    origzip.close()"
      ],
      "execution_count": 0,
      "outputs": []
    },
    {
      "metadata": {
        "id": "qdntpLAicdxP",
        "colab_type": "code",
        "colab": {}
      },
      "cell_type": "code",
      "source": [
        "with zipfile.ZipFile(ZIPPED_ORIGINAL_CV2, \"r\") as origcv2zip:\n",
        "    origcv2zip.extractall(\"./data\")\n",
        "    origcv2zip.close()"
      ],
      "execution_count": 0,
      "outputs": []
    },
    {
      "metadata": {
        "id": "LRqTedKkrayy",
        "colab_type": "code",
        "colab": {}
      },
      "cell_type": "code",
      "source": [
        "with zipfile.ZipFile(ZIPPED_KAGGLE_CV2, \"r\") as zipkagcv2:\n",
        "    zipkagcv2.extractall(\"./data\")\n",
        "    zipkagcv2.close()"
      ],
      "execution_count": 0,
      "outputs": []
    },
    {
      "metadata": {
        "trusted": true,
        "_uuid": "62f104d6b8a3f154e9eb3526ab8c1f9486bd20fb",
        "id": "teBgdVmiGgdl",
        "colab_type": "code",
        "colab": {}
      },
      "cell_type": "code",
      "source": [
        "TRAIN_LAB_PATH = \"./data/extendedTrainLabels.csv\" # \"./data/train_labels.csv\"\n",
        "PREPROCESSED_TRAINING = \"./data/extendedTrainData.npy\" # \"./data/processedData.npy\"\n",
        "PREPROCESSED_KAGGLE = \"./data/processed_kaggle.npy\"\n",
        "PREPROCESSED_KAGGLE_CV2 = \"./data/processed_kaggle_CV2.npy\"\n",
        "PREPROCESSED_ORIGINAL = \"./data/processedData.npy\"\n",
        "PREPROCESSED_ORIGINAL_CV2 = \"./data/preprocessed_CV2.npy\"\n",
        "ORIG_LAB_PATH = \"/content/drive/My Drive/train_labels.csv\""
      ],
      "execution_count": 0,
      "outputs": []
    },
    {
      "metadata": {
        "trusted": true,
        "_uuid": "657a3557209ef738728e60c89b7f948776473b0c",
        "id": "sqANxLzeGgdn",
        "colab_type": "code",
        "colab": {}
      },
      "cell_type": "code",
      "source": [
        "CATEGORIES = ['apple', 'empty', 'moustache', 'mouth', 'mug', 'nail', 'nose', 'octagon', 'paintbrush', 'panda', 'parrot', 'peanut', 'pear', 'pencil', 'penguin', 'pillow', 'pineapple', 'pool', 'rabbit', 'rhinoceros', 'rifle', 'rollerskates', 'sailboat', 'scorpion', 'screwdriver', 'shovel', 'sink', 'skateboard', 'skull', 'spoon', 'squiggle']\n",
        "\n",
        "def getIndexOf(category):\n",
        "    return CATEGORIES.index(category)\n",
        "\n",
        "def getCategoryOf(index):\n",
        "    return CATEGORIES[index]\n",
        "\n",
        "def load(infile):\n",
        "    unformatted_images = np.load(infile, encoding='bytes')\n",
        "    formatted = []\n",
        "    for i,img in enumerate(unformatted_images):\n",
        "        formatted.append([i, img[0]])\n",
        "    return formatted\n",
        "\n",
        "def formatXData(X, xDimension = 40):\n",
        "    X = np.asarray(X)\n",
        "    # Convert to matrix form\n",
        "    X = X.reshape(-1, xDimension, xDimension, 1)\n",
        "    # Convert to float\n",
        "    X = X.astype('float32')\n",
        "    # Scale pixel values between 0 and 1\n",
        "    X = X / 255\n",
        "    return X.astype('float32')\n",
        "\n",
        "def addRotations(X,y):\n",
        "    newX = []\n",
        "    newY = []\n",
        "    for i,XMatrix in enumerate(X):\n",
        "        newX.append(XMatrix)\n",
        "        newY.append(y[i])\n",
        "        newX.append(np.rot90(XMatrix, 1))\n",
        "        newY.append(y[i])\n",
        "        newX.append(np.rot90(XMatrix, 2))\n",
        "        newY.append(y[i])\n",
        "        newX.append(np.rot90(XMatrix, 3))\n",
        "        newY.append(y[i])\n",
        "    return np.asarray(newX),np.asarray(newY)\n",
        "\n",
        "def formatData(images, labels, xDimension = 40, onehot=False):\n",
        "    if not onehot:\n",
        "        categories = list(set(labels['Category']))\n",
        "        X = []\n",
        "        y = []\n",
        "        for i, img in enumerate(images):\n",
        "            label = labels.at[i,'Category']\n",
        "            categoryNum = getIndexOf(label)\n",
        "            X.append(img[1])\n",
        "            y.append(categoryNum)\n",
        "        y = to_categorical(y)\n",
        "        X = formatXData(X, xDimension)\n",
        "    else:\n",
        "        X = []\n",
        "        y = labels\n",
        "        for i, img in enumerate(images):\n",
        "            X.append(img[1])\n",
        "        X = formatXData(X, xDimension)\n",
        "    return X.astype('float32'), y\n",
        "\n",
        "def split(X,y):\n",
        "    X_train, X_test, y_train, y_test = train_test_split(X, y, test_size=0.15, random_state=1)\n",
        "    X_test, X_val, y_test, y_val = train_test_split(X_test, y_test, test_size=0.5, random_state=1) \n",
        "    return X_train, y_train, X_test, y_test, X_val, y_val"
      ],
      "execution_count": 0,
      "outputs": []
    },
    {
      "metadata": {
        "trusted": true,
        "_uuid": "e7ad7b8e7d4f338043dd03a9fb66341f56afee87",
        "id": "wto92ciQGgfD",
        "colab_type": "code",
        "colab": {}
      },
      "cell_type": "code",
      "source": [
        "def visualizePredictions(images, predictions, indices, shape=(40, 40)):\n",
        "    fig, ax = plt.subplots(figsize=(len(CATEGORIES) + 1, len(indices) * 3))\n",
        "\n",
        "    for spot, i in enumerate(indices):\n",
        "\n",
        "        # plot probabilities:\n",
        "        ax = plt.subplot2grid((len(indices), 5), (spot, 0), colspan=4);\n",
        "        plt.bar(np.arange(len(CATEGORIES)), predictions[i], 0.35, align='center');\n",
        "        plt.xticks(np.arange(len(CATEGORIES)), CATEGORIES)\n",
        "        plt.tick_params(axis='x', bottom='off', top='off')\n",
        "        plt.ylabel('Probability')\n",
        "        plt.ylim(0,1)\n",
        "        plt.subplots_adjust(hspace = 0.5)\n",
        "\n",
        "        # plot picture:\n",
        "        ax = plt.subplot2grid((len(indices), 5), (spot, 4));\n",
        "        plt.imshow(images[i].reshape(shape),cmap='gray_r', interpolation='nearest');\n",
        "        plt.xlabel(getCategoryOf(np.argmax(predictions[i]))); # get the label from the dict\n",
        "        plt.xticks([])\n",
        "        plt.yticks([])\n",
        "\n",
        "def visualizePredictionsJustWrong(images, predictions, actual, start = 0, end = 10, shape=(40, 40)):\n",
        "    fig, ax = plt.subplots(figsize=(len(CATEGORIES) + 1, 30))\n",
        "    numFound = 0\n",
        "    for i in range(start, len(images)):\n",
        "        if getCategoryOf(np.argmax(predictions[i])) != getCategoryOf(np.argmax(actual[i])):\n",
        "            # plot probabilities:\n",
        "            ax = plt.subplot2grid((end - start, 5), (numFound, 0), colspan=4);\n",
        "            plt.bar(np.arange(len(CATEGORIES)), predictions[i], 0.35, align='center');\n",
        "            plt.xticks(np.arange(len(CATEGORIES)), CATEGORIES)\n",
        "            plt.tick_params(axis='x', bottom='off', top='off')\n",
        "            plt.ylabel('Probability')\n",
        "            plt.ylim(0,1)\n",
        "            plt.subplots_adjust(hspace = 0.5)\n",
        "\n",
        "            # plot picture:\n",
        "            ax = plt.subplot2grid((end - start, 5), (numFound, 4));\n",
        "            plt.imshow(images[i].reshape(shape),cmap='gray_r', interpolation='nearest');\n",
        "            plt.xlabel(str(i) + \":\" +getCategoryOf(np.argmax(predictions[i])) + \"/\" +getCategoryOf(np.argmax(actual[i]))); # get the label from the dict\n",
        "            plt.xticks([])\n",
        "            plt.yticks([])\n",
        "            \n",
        "            numFound += 1\n",
        "            if numFound >= end - start:\n",
        "                return\n"
      ],
      "execution_count": 0,
      "outputs": []
    },
    {
      "metadata": {
        "trusted": true,
        "_uuid": "89b6012eb937933e693f08294cd5bf2b9cfa2ddd",
        "id": "Zbj6uRpeGgdp",
        "colab_type": "code",
        "colab": {}
      },
      "cell_type": "code",
      "source": [
        "training_imgs = load(PREPROCESSED_TRAINING)"
      ],
      "execution_count": 0,
      "outputs": []
    },
    {
      "metadata": {
        "trusted": true,
        "_uuid": "512926cd8b7421c4cb17b13625ae120ec79c13df",
        "id": "5kqDzAjdGgds",
        "colab_type": "code",
        "colab": {}
      },
      "cell_type": "code",
      "source": [
        "labels = np.genfromtxt(TRAIN_LAB_PATH, skip_header=0)"
      ],
      "execution_count": 0,
      "outputs": []
    },
    {
      "metadata": {
        "id": "R5hN1iET1z30",
        "colab_type": "code",
        "colab": {}
      },
      "cell_type": "code",
      "source": [
        "origs_img = []\n",
        "origs_lab = []\n",
        "labels = labels.tolist()\n",
        "idx = int(len(training_imgs)/60)\n",
        "for i in range(0, idx):\n",
        "    j = 60*i - i\n",
        "    origs_img.append(training_imgs.pop(j))\n",
        "    origs_lab.append(labels.pop(j))\n",
        "    \n",
        "labels = np.array(labels)\n",
        "origs_lab = np.array(origs_lab)"
      ],
      "execution_count": 0,
      "outputs": []
    },
    {
      "metadata": {
        "id": "s3BJOcgf3wJL",
        "colab_type": "code",
        "colab": {}
      },
      "cell_type": "code",
      "source": [
        "orig_imgs = load(PREPROCESSED_ORIGINAL)\n",
        "orig_labels = pd.read_csv(ORIG_LAB_PATH)\n",
        "orig_X, orig_labels = formatData(orig_imgs, orig_labels, onehot=False)"
      ],
      "execution_count": 0,
      "outputs": []
    },
    {
      "metadata": {
        "trusted": true,
        "_uuid": "2d59c3c0de4e08377503de7cfdac5dfe1b0c9d3f",
        "id": "VUsybXk8Ggdt",
        "colab_type": "code",
        "colab": {}
      },
      "cell_type": "code",
      "source": [
        "X,y = formatData(training_imgs, labels, onehot=True)\n",
        "X_val, y_val = formatData(origs_img, origs_lab, onehot=True)"
      ],
      "execution_count": 0,
      "outputs": []
    },
    {
      "metadata": {
        "id": "VccD81Alj6cJ",
        "colab_type": "code",
        "colab": {}
      },
      "cell_type": "code",
      "source": [
        "del training_imgs\n",
        "del labels"
      ],
      "execution_count": 0,
      "outputs": []
    },
    {
      "metadata": {
        "id": "7anQ2bqek1bZ",
        "colab_type": "code",
        "outputId": "05149f9e-81a4-407b-a4c5-87c02af7bfc7",
        "colab": {
          "base_uri": "https://localhost:8080/",
          "height": 36
        }
      },
      "cell_type": "code",
      "source": [
        "import gc\n",
        "gc.collect()"
      ],
      "execution_count": 13,
      "outputs": [
        {
          "output_type": "execute_result",
          "data": {
            "text/plain": [
              "0"
            ]
          },
          "metadata": {
            "tags": []
          },
          "execution_count": 13
        }
      ]
    },
    {
      "metadata": {
        "trusted": true,
        "_uuid": "cdc2c390f9105ac336bd67b151861ce99ef4724b",
        "id": "1Vowk6leGgdz",
        "colab_type": "code",
        "colab": {}
      },
      "cell_type": "code",
      "source": [
        "# X_train, y_train, X_test, y_test, X_val, y_val = split(X,y)"
      ],
      "execution_count": 0,
      "outputs": []
    },
    {
      "metadata": {
        "trusted": true,
        "_uuid": "c08657880b14497ee593cd22a9897ee25c671d68",
        "id": "bgC0dvA_Ggd2",
        "colab_type": "code",
        "colab": {}
      },
      "cell_type": "code",
      "source": [
        "import keras\n",
        "from keras.models import Sequential, load_model\n",
        "from keras.layers import Dense, Dropout, Flatten, Activation, ZeroPadding2D\n",
        "from keras.layers import Conv2D, MaxPooling2D, GlobalMaxPooling2D\n",
        "from keras.layers.normalization import BatchNormalization\n",
        "from sklearn.ensemble import RandomForestClassifier\n",
        "from keras import regularizers"
      ],
      "execution_count": 0,
      "outputs": []
    },
    {
      "metadata": {
        "trusted": true,
        "_uuid": "5dd08d06849cb4454a585f93fea441adf56fb983",
        "id": "0qMPt0GiGgd5",
        "colab_type": "code",
        "colab": {}
      },
      "cell_type": "code",
      "source": [
        "import csv\n",
        "import matplotlib.pyplot as plt\n",
        "import time"
      ],
      "execution_count": 0,
      "outputs": []
    },
    {
      "metadata": {
        "trusted": true,
        "_uuid": "8d8757667fcda689eebe006035198c934d36a8fc",
        "id": "udfJAncKGgd7",
        "colab_type": "code",
        "colab": {}
      },
      "cell_type": "code",
      "source": [
        "batch_size = 128\n",
        "epochs = 40\n",
        "num_classes = len(CATEGORIES)"
      ],
      "execution_count": 0,
      "outputs": []
    },
    {
      "metadata": {
        "trusted": true,
        "_uuid": "e6e8963cb41ce8bdbdccbea7f7de56f132b09317",
        "id": "W3FrBD_tGgd9",
        "colab_type": "code",
        "colab": {}
      },
      "cell_type": "code",
      "source": [
        "def plotHistory(history):\n",
        "    plt.plot(history.history['acc'])\n",
        "    plt.plot(history.history['val_acc'])\n",
        "    plt.title('model accuracy')\n",
        "    plt.ylabel('accuracy')\n",
        "    plt.xlabel('epoch')\n",
        "    plt.legend(['train', 'test'], loc='upper left')\n",
        "    plt.show()\n",
        "    # summarize history for loss\n",
        "    plt.plot(history.history['loss'])\n",
        "    plt.plot(history.history['val_loss'])\n",
        "    plt.title('model loss')\n",
        "    plt.ylabel('loss')\n",
        "    plt.xlabel('epoch')\n",
        "    plt.legend(['train', 'test'], loc='upper left')\n",
        "    plt.show()\n",
        "\n",
        "def loadModel(path):\n",
        "  return load_model(path)\n",
        "\n",
        "def createModel(input_shape=(40, 40, 1)):\n",
        "    model = Sequential()\n",
        "    model.add(Conv2D(32, kernel_size=(3, 3),\n",
        "                 activation='relu',\n",
        "                 kernel_initializer='he_normal',\n",
        "                 input_shape=input_shape))\n",
        "    model.add(MaxPooling2D((2, 2)))\n",
        "#     model.add(Dropout(0.25))\n",
        "    model.add(Conv2D(64, (3, 3), activation='relu'))\n",
        "    model.add(MaxPooling2D(pool_size=(2, 2)))\n",
        "    model.add(Dropout(0.25))\n",
        "    model.add(Conv2D(128, (3, 3), activation='relu'))\n",
        "    model.add(Dropout(0.4))\n",
        "    model.add(Conv2D(512, (3, 3), activation='relu'))\n",
        "    model.add(Dropout(0.3))\n",
        "    model.add(Flatten())\n",
        "    model.add(Dense(512, activation='relu'))\n",
        "    model.add(BatchNormalization())\n",
        "    model.add(Dropout(0.3))\n",
        "    model.add(Dense(num_classes, activation='softmax'))\n",
        "    model.compile(loss=keras.losses.categorical_crossentropy,\n",
        "              optimizer=keras.optimizers.Adam(),\n",
        "              metrics=['accuracy'])\n",
        "    model.summary()\n",
        "    return model\n",
        "\n",
        "def createModel2(input_shape=(40, 40, 1)):\n",
        "        # INPUT -> [CONV -> RELU -> CONV -> RELU -> POOL]*3 -> [FC -> RELU]*2 -> FC\n",
        "    model = Sequential()\n",
        "    #Input\n",
        "    model.add(Conv2D(32, kernel_size=(3, 3),\n",
        "                     activation='relu',\n",
        "                     kernel_initializer='he_normal',\n",
        "                     input_shape=input_shape))\n",
        "    \n",
        "    model.add(Conv2D(64, (3, 3), activation='relu'))\n",
        "    model.add(Conv2D(64, (3, 3), activation='relu'))\n",
        "    model.add(MaxPooling2D((2, 2)))\n",
        "    model.add(Dropout(0.25))\n",
        "    model.add(Conv2D(128, (3, 3), activation='relu'))\n",
        "    model.add(Conv2D(128, (3, 3), activation='relu'))\n",
        "    model.add(MaxPooling2D((2, 2)))\n",
        "    model.add(Dropout(0.25))\n",
        "    model.add(Conv2D(256, (3, 3), activation='relu'))\n",
        "    model.add(Conv2D(256, (3, 3), activation='relu'))\n",
        "    model.add(MaxPooling2D((2, 2)))\n",
        "    model.add(Dropout(0.25))\n",
        "    model.add(Flatten())\n",
        "#     model.add(Dense(256, activation='relu'))\n",
        "#     model.add(Dense(256, activation='relu'))\n",
        "    model.add(Dense(256, kernel_regularizer=keras.regularizers.l2(0.3)))\n",
        "    model.add(BatchNormalization())\n",
        "    model.add(Activation('relu'))\n",
        "    model.add(Dense(256, kernel_regularizer=keras.regularizers.l2(0.2)))\n",
        "    model.add(BatchNormalization())\n",
        "    model.add(Activation('relu'))\n",
        "    model.add(Dense(num_classes, activation='softmax'))\n",
        "    model.compile(loss=keras.losses.categorical_crossentropy,\n",
        "              optimizer=keras.optimizers.Adam(),\n",
        "              metrics=['accuracy'])\n",
        "    model.summary()\n",
        "    return model\n",
        "\n",
        "def createModelWithPadding(input_shape=(40, 40, 1)):\n",
        "    model = Sequential()\n",
        "    model.add(ZeroPadding2D(padding=(1, 1), input_shape=input_shape))\n",
        "    model.add(Conv2D(32, kernel_size=(3, 3),\n",
        "                 activation='relu',\n",
        "                 kernel_initializer='he_normal'))\n",
        "\n",
        "#     model.add(MaxPooling2D((2, 2)))\n",
        "#     model.add(Dropout(0.25))\n",
        "    model.add(Conv2D(64, (3, 3), activation='relu'))\n",
        "    model.add(MaxPooling2D(pool_size=(2, 2)))\n",
        "    model.add(Dropout(0.25))\n",
        "    model.add(Conv2D(128, (3, 3), activation='relu'))\n",
        "    model.add(Dropout(0.4))\n",
        "    model.add(Conv2D(512, (3, 3), activation='relu'))\n",
        "    model.add(Dropout(0.5))\n",
        "    model.add(Flatten())\n",
        "    model.add(Dense(512, activation='relu'))\n",
        "    model.add(BatchNormalization())\n",
        "    model.add(Dropout(0.5))\n",
        "    model.add(Dense(num_classes, activation='softmax'))\n",
        "    model.compile(loss=keras.losses.categorical_crossentropy,\n",
        "              optimizer=keras.optimizers.Adam(),\n",
        "              metrics=['accuracy'])\n",
        "    model.summary()\n",
        "    return model"
      ],
      "execution_count": 0,
      "outputs": []
    },
    {
      "metadata": {
        "trusted": true,
        "_uuid": "4740f6650519f54d91b0bf29f8d12f26a11aa85c",
        "id": "xFzaxafIGgeQ",
        "colab_type": "code",
        "colab": {}
      },
      "cell_type": "code",
      "source": [
        "def createModelWithPaddingAndMoreLayers(input_shape=(40, 40, 1)):\n",
        "    model = Sequential()\n",
        "    model.add(ZeroPadding2D(padding=(1, 1), input_shape=input_shape))\n",
        "    model.add(Conv2D(32, kernel_size=(3, 3),\n",
        "                 activation='relu',\n",
        "                 kernel_initializer='he_normal'))\n",
        "\n",
        "    model.add(MaxPooling2D((2, 2)))\n",
        "#     model.add(Dropout(0.25))\n",
        "    model.add(Conv2D(64, (3, 3), activation='relu'))\n",
        "    model.add(MaxPooling2D(pool_size=(2, 2)))\n",
        "    model.add(Dropout(0.25))\n",
        "    model.add(Conv2D(128, (3, 3), activation='relu'))\n",
        "    model.add(Dropout(0.4))\n",
        "    model.add(Conv2D(512, (3, 3), activation='relu'))\n",
        "    model.add(Dropout(0.5))\n",
        "    model.add(Conv2D(512, (3, 3), activation='relu'))\n",
        "    model.add(Dropout(0.5))\n",
        "    model.add(Flatten())\n",
        "    model.add(Dense(512, activation='relu'))\n",
        "    model.add(BatchNormalization())\n",
        "    model.add(Dropout(0.5))\n",
        "    model.add(Dense(num_classes, activation='softmax'))\n",
        "    model.compile(loss=keras.losses.categorical_crossentropy,\n",
        "              optimizer=keras.optimizers.Adam(),\n",
        "              metrics=['accuracy'])\n",
        "    model.summary()\n",
        "    return model\n"
      ],
      "execution_count": 0,
      "outputs": []
    },
    {
      "metadata": {
        "trusted": true,
        "_uuid": "c5fb3775ac5274ba3fd78caedc227543dbfd38a8",
        "id": "Nbe8xBZ7GgeN",
        "colab_type": "code",
        "colab": {}
      },
      "cell_type": "code",
      "source": [
        "def savePredictions(outfile, predictions):\n",
        "    if outfile == '':\n",
        "        for i, prediction in enumerate(predictions):\n",
        "            index = np.argmax(prediction)\n",
        "            print(i,getCategoryOf(index))\n",
        "    else:\n",
        "        with open(outfile,'w') as csvfile:\n",
        "            fieldnames = ['Id', 'Category']\n",
        "            writer = csv.DictWriter(csvfile, fieldnames=fieldnames)\n",
        "            writer.writeheader()\n",
        "            for i, prediction in enumerate(predictions):\n",
        "                index = np.argmax(prediction)\n",
        "                writer.writerow({'Id': i, 'Category': getCategoryOf(index)})"
      ],
      "execution_count": 0,
      "outputs": []
    },
    {
      "metadata": {
        "trusted": true,
        "scrolled": true,
        "_uuid": "13badbe43a7725758e6a3413c56129903584a943",
        "id": "FNc-l3E4GgeR",
        "colab_type": "code",
        "colab": {}
      },
      "cell_type": "code",
      "source": [
        "model2 = createModelWithPaddingAndMoreLayers()\n",
        "history = model2.fit(X_train, y_train,\n",
        "          batch_size=batch_size,\n",
        "          epochs=epochs,\n",
        "          verbose=1,\n",
        "          validation_data=(X_val, y_val))\n",
        "score = model2.evaluate(X_test, y_test, verbose=0)"
      ],
      "execution_count": 0,
      "outputs": []
    },
    {
      "metadata": {
        "trusted": true,
        "_uuid": "c65580f2c92b351c83ffba27ac416deecb379711",
        "id": "JCCUApPjGgeT",
        "colab_type": "code",
        "colab": {}
      },
      "cell_type": "code",
      "source": [
        "score"
      ],
      "execution_count": 0,
      "outputs": []
    },
    {
      "metadata": {
        "trusted": true,
        "_uuid": "c1b644bc3f868a1aadca60ed3f526c4cac42a1f3",
        "id": "YKxV0TejGgeV",
        "colab_type": "code",
        "colab": {}
      },
      "cell_type": "code",
      "source": [
        "preprocessed_kaggle = load(PREPROCESSED_KAGGLE)\n",
        "X_kaggle = formatXData(list(map(lambda x: x[1], preprocessed_kaggle)))\n",
        "# kaggle_predictions = model2.predict(X_kaggle)"
      ],
      "execution_count": 0,
      "outputs": []
    },
    {
      "metadata": {
        "trusted": true,
        "_uuid": "4bf710771f87ab39b57b9f0949fbdaae3acc6697",
        "id": "bOz58Q_GGgeW",
        "colab_type": "code",
        "colab": {}
      },
      "cell_type": "code",
      "source": [
        "savePredictions('./prediction_11_20_3.csv',kaggle_predictions)"
      ],
      "execution_count": 0,
      "outputs": []
    },
    {
      "metadata": {
        "trusted": true,
        "_uuid": "e040014b972fa657d18bffba7f44e4af558e2c57",
        "id": "bona0utPGgeY",
        "colab_type": "code",
        "colab": {}
      },
      "cell_type": "code",
      "source": [
        "# We want to continue training\n",
        "plotHistory(history)\n"
      ],
      "execution_count": 0,
      "outputs": []
    },
    {
      "metadata": {
        "trusted": true,
        "scrolled": true,
        "_uuid": "2b1c88357107c55b21223128dd8a32a8f1cfbed2",
        "id": "Gh447lf-Ggea",
        "colab_type": "code",
        "colab": {}
      },
      "cell_type": "code",
      "source": [
        "# train for another 40 epochs\n",
        "history = model2.fit(X_train, y_train,\n",
        "          batch_size=batch_size,\n",
        "          epochs=epochs,\n",
        "          verbose=1,\n",
        "          validation_data=(X_val, y_val))\n",
        "score = model2.evaluate(X_test, y_test, verbose=0)"
      ],
      "execution_count": 0,
      "outputs": []
    },
    {
      "metadata": {
        "trusted": true,
        "_uuid": "af69b3c3d7f6f55cb6c59fe29c14c3057fef714f",
        "id": "xvkkAynKGgec",
        "colab_type": "code",
        "colab": {}
      },
      "cell_type": "code",
      "source": [
        "plotHistory(history)"
      ],
      "execution_count": 0,
      "outputs": []
    },
    {
      "metadata": {
        "id": "SaWYvaChT4v1",
        "colab_type": "code",
        "outputId": "aaeee7eb-7f87-43de-f5d5-43165be9b9c1",
        "colab": {
          "base_uri": "https://localhost:8080/",
          "height": 34
        }
      },
      "cell_type": "code",
      "source": [
        "score"
      ],
      "execution_count": 0,
      "outputs": [
        {
          "output_type": "execute_result",
          "data": {
            "text/plain": [
              "[1.0411031639575958, 0.74475]"
            ]
          },
          "metadata": {
            "tags": []
          },
          "execution_count": 30
        }
      ]
    },
    {
      "metadata": {
        "trusted": true,
        "_uuid": "b3762065709618171d991b89a6415a3dc33b89dc",
        "id": "rm1eBwP9Ggee",
        "colab_type": "code",
        "colab": {}
      },
      "cell_type": "code",
      "source": [
        "preprocessed_kaggle = load(PREPROCESSED_KAGGLE)\n",
        "X_kaggle = formatXData(list(map(lambda x: x[1], preprocessed_kaggle)))\n",
        "kaggle_predictions = model2.predict(X_kaggle)"
      ],
      "execution_count": 0,
      "outputs": []
    },
    {
      "metadata": {
        "trusted": true,
        "_uuid": "ac2157c411bf6083c1b02a55a1823eaf0ba7330f",
        "id": "eSGbp631Ggeh",
        "colab_type": "code",
        "colab": {}
      },
      "cell_type": "code",
      "source": [
        "savePredictions('./prediction_11_20_4.csv',kaggle_predictions)"
      ],
      "execution_count": 0,
      "outputs": []
    },
    {
      "metadata": {
        "id": "88PUBI_PJc1L",
        "colab_type": "code",
        "colab": {}
      },
      "cell_type": "code",
      "source": [
        "model2.save('./createModelWithPaddingAndMoreLayers_80epochs.h5')  # creates a HDF5 file 'my_model.h5'"
      ],
      "execution_count": 0,
      "outputs": []
    },
    {
      "metadata": {
        "id": "OEqQ3l7WT-3o",
        "colab_type": "code",
        "colab": {}
      },
      "cell_type": "code",
      "source": [
        "# RUN IT AGAIN!!!!\n",
        "history = model2.fit(X_train, y_train,\n",
        "          batch_size=batch_size,\n",
        "          epochs=epochs,\n",
        "          verbose=1,\n",
        "          validation_data=(X_val, y_val))\n",
        "score = model2.evaluate(X_test, y_test, verbose=0)"
      ],
      "execution_count": 0,
      "outputs": []
    },
    {
      "metadata": {
        "id": "MzifOBoEUulI",
        "colab_type": "code",
        "colab": {}
      },
      "cell_type": "code",
      "source": [
        "score"
      ],
      "execution_count": 0,
      "outputs": []
    },
    {
      "metadata": {
        "id": "YcJygzb0XpiP",
        "colab_type": "code",
        "colab": {}
      },
      "cell_type": "code",
      "source": [
        "plotHistory(history)"
      ],
      "execution_count": 0,
      "outputs": []
    },
    {
      "metadata": {
        "id": "GLP09O0HXdi6",
        "colab_type": "code",
        "colab": {}
      },
      "cell_type": "code",
      "source": [
        "preprocessed_kaggle = load(PREPROCESSED_KAGGLE)\n",
        "X_kaggle = formatXData(list(map(lambda x: x[1], preprocessed_kaggle)))\n",
        "kaggle_predictions = model2.predict(X_kaggle)\n",
        "savePredictions('./prediction_11_20_5.csv',kaggle_predictions)\n",
        "model2.save('./createModelWithPaddingAndMoreLayers_120epochs.h5')  # creates a HDF5 file 'my_model.h5'"
      ],
      "execution_count": 0,
      "outputs": []
    },
    {
      "metadata": {
        "id": "OM1_ejEGXzQh",
        "colab_type": "code",
        "colab": {}
      },
      "cell_type": "code",
      "source": [
        "# AND AGAIN!!!!!\n",
        "history = model2.fit(X_train, y_train,\n",
        "          batch_size=batch_size,\n",
        "          epochs=epochs,\n",
        "          verbose=1,\n",
        "          validation_data=(X_val, y_val))\n",
        "score = model2.evaluate(X_test, y_test, verbose=0)"
      ],
      "execution_count": 0,
      "outputs": []
    },
    {
      "metadata": {
        "id": "3OHEufUEbXdX",
        "colab_type": "code",
        "outputId": "06066919-d018-4150-b36f-002a5b7521ed",
        "colab": {
          "base_uri": "https://localhost:8080/",
          "height": 34
        }
      },
      "cell_type": "code",
      "source": [
        "score"
      ],
      "execution_count": 0,
      "outputs": [
        {
          "output_type": "execute_result",
          "data": {
            "text/plain": [
              "[1.0969892027378083, 0.7545]"
            ]
          },
          "metadata": {
            "tags": []
          },
          "execution_count": 37
        }
      ]
    },
    {
      "metadata": {
        "id": "0Q_Zybg5b56V",
        "colab_type": "code",
        "colab": {}
      },
      "cell_type": "code",
      "source": [
        "plotHistory(history)"
      ],
      "execution_count": 0,
      "outputs": []
    },
    {
      "metadata": {
        "id": "h1shB9oUb1UC",
        "colab_type": "code",
        "colab": {}
      },
      "cell_type": "code",
      "source": [
        "preprocessed_kaggle = load(PREPROCESSED_KAGGLE)\n",
        "X_kaggle = formatXData(list(map(lambda x: x[1], preprocessed_kaggle)))\n",
        "kaggle_predictions = model2.predict(X_kaggle)\n",
        "savePredictions('./prediction_11_20_6.csv',kaggle_predictions)\n",
        "model2.save('./createModelWithPaddingAndMoreLayers_160epochs.h5')  # creates a HDF5 file 'my_model.h5'"
      ],
      "execution_count": 0,
      "outputs": []
    },
    {
      "metadata": {
        "id": "7gZS5dpcdx-Q",
        "colab_type": "code",
        "colab": {}
      },
      "cell_type": "code",
      "source": [
        "visualizePredictions(X_kaggle, kaggle_predictions, range(1050,1070))"
      ],
      "execution_count": 0,
      "outputs": []
    },
    {
      "metadata": {
        "id": "enfHVlqeiJM2",
        "colab_type": "code",
        "colab": {}
      },
      "cell_type": "code",
      "source": [
        "def modelWithEvenMoreLayers(input_shape=(40, 40, 1)):\n",
        "    model = Sequential()\n",
        "    model.add(ZeroPadding2D(padding=(3, 3), input_shape=input_shape))\n",
        "    model.add(Conv2D(32, kernel_size=(5, 5),\n",
        "                 activation='relu',\n",
        "                 kernel_initializer='he_normal'))\n",
        "\n",
        "    model.add(MaxPooling2D((2, 2)))\n",
        "#     model.add(Dropout(0.25))\n",
        "    model.add(Conv2D(64, (3, 3), activation='relu'))\n",
        "    model.add(Dropout(0.25))\n",
        "    model.add(Conv2D(128, (3, 3), activation='relu'))\n",
        "    model.add(Dropout(0.4))\n",
        "    model.add(Conv2D(512, (3, 3), activation='relu'))\n",
        "    model.add(MaxPooling2D(pool_size=(2, 2)))\n",
        "    model.add(Dropout(0.5))\n",
        "    model.add(Conv2D(512, (3, 3), activation='relu'))\n",
        "    model.add(Dropout(0.5))\n",
        "    model.add(Flatten())\n",
        "    model.add(Dense(512, activation='relu'))\n",
        "    model.add(BatchNormalization())\n",
        "    model.add(Dropout(0.5))\n",
        "    model.add(Dense(num_classes, activation='softmax'))\n",
        "    model.compile(loss=keras.losses.categorical_crossentropy,\n",
        "              optimizer=keras.optimizers.Adam(),\n",
        "              metrics=['accuracy'])\n",
        "    model.summary()\n",
        "    return model\n"
      ],
      "execution_count": 0,
      "outputs": []
    },
    {
      "metadata": {
        "id": "ZCiMTi5IiSMJ",
        "colab_type": "code",
        "colab": {}
      },
      "cell_type": "code",
      "source": [
        "model3 = modelWithEvenMoreLayers()"
      ],
      "execution_count": 0,
      "outputs": []
    },
    {
      "metadata": {
        "id": "LY3LJ7XEiXDV",
        "colab_type": "code",
        "colab": {}
      },
      "cell_type": "code",
      "source": [
        "history = model3.fit(X_train, y_train,\n",
        "          batch_size=batch_size,\n",
        "          epochs=epochs,\n",
        "          verbose=1,\n",
        "          validation_data=(X_val, y_val))\n",
        "score = model3.evaluate(X_test, y_test, verbose=0)"
      ],
      "execution_count": 0,
      "outputs": []
    },
    {
      "metadata": {
        "id": "0VO7XoFynipz",
        "colab_type": "code",
        "outputId": "6a0bbaef-06aa-4166-db77-0db747f7066b",
        "colab": {
          "base_uri": "https://localhost:8080/",
          "height": 34
        }
      },
      "cell_type": "code",
      "source": [
        "score"
      ],
      "execution_count": 0,
      "outputs": [
        {
          "output_type": "execute_result",
          "data": {
            "text/plain": [
              "[1.0578505320549012, 0.72875]"
            ]
          },
          "metadata": {
            "tags": []
          },
          "execution_count": 58
        }
      ]
    },
    {
      "metadata": {
        "id": "5lyxkF_ete1-",
        "colab_type": "code",
        "colab": {}
      },
      "cell_type": "code",
      "source": [
        "import os\n",
        "os.mkdir('./modelWithEvenMoreLayers')"
      ],
      "execution_count": 0,
      "outputs": []
    },
    {
      "metadata": {
        "id": "9nYu7P62uxgu",
        "colab_type": "code",
        "colab": {}
      },
      "cell_type": "code",
      "source": [
        "plotHistory(history)"
      ],
      "execution_count": 0,
      "outputs": []
    },
    {
      "metadata": {
        "id": "JcIJpm3SuaH3",
        "colab_type": "code",
        "colab": {}
      },
      "cell_type": "code",
      "source": [
        "preprocessed_kaggle = load(PREPROCESSED_KAGGLE)\n",
        "X_kaggle = formatXData(list(map(lambda x: x[1], preprocessed_kaggle)))\n",
        "kaggle_predictions = model3.predict(X_kaggle)\n",
        "savePredictions('./modelWithEvenMoreLayers/prediction_11_20_1.csv',kaggle_predictions)\n",
        "model3.save('./modelWithEvenMoreLayers/createModelWithPaddingAndMoreLayers_40epochs.h5')  # creates a HDF5 file 'my_model.h5'"
      ],
      "execution_count": 0,
      "outputs": []
    },
    {
      "metadata": {
        "id": "ehLLd2z0vEWj",
        "colab_type": "code",
        "colab": {}
      },
      "cell_type": "code",
      "source": [
        "history = model3.fit(X_train, y_train,\n",
        "          batch_size=batch_size,\n",
        "          epochs=epochs,\n",
        "          verbose=1,\n",
        "          validation_data=(X_val, y_val))\n",
        "score = model3.evaluate(X_test, y_test, verbose=0)"
      ],
      "execution_count": 0,
      "outputs": []
    },
    {
      "metadata": {
        "id": "uE5yM8mc1Bnv",
        "colab_type": "code",
        "outputId": "9ac202ab-cd03-4dfe-9cbc-ef61a4028a1b",
        "colab": {
          "base_uri": "https://localhost:8080/",
          "height": 34
        }
      },
      "cell_type": "code",
      "source": [
        "score"
      ],
      "execution_count": 0,
      "outputs": [
        {
          "output_type": "execute_result",
          "data": {
            "text/plain": [
              "[1.1596479260921477, 0.748]"
            ]
          },
          "metadata": {
            "tags": []
          },
          "execution_count": 66
        }
      ]
    },
    {
      "metadata": {
        "id": "WUJup6yk1CAe",
        "colab_type": "code",
        "colab": {}
      },
      "cell_type": "code",
      "source": [
        "plotHistory(history)"
      ],
      "execution_count": 0,
      "outputs": []
    },
    {
      "metadata": {
        "id": "ktU_UQiD1EuU",
        "colab_type": "code",
        "colab": {}
      },
      "cell_type": "code",
      "source": [
        "preprocessed_kaggle = load(PREPROCESSED_KAGGLE)\n",
        "X_kaggle = formatXData(list(map(lambda x: x[1], preprocessed_kaggle)))\n",
        "kaggle_predictions = model3.predict(X_kaggle)\n",
        "savePredictions('./modelWithEvenMoreLayers/prediction_11_20_2.csv',kaggle_predictions)\n",
        "model3.save('./modelWithEvenMoreLayers/createModelWithPaddingAndMoreLayers_80epochs.h5')  # creates a HDF5 file 'my_model.h5'"
      ],
      "execution_count": 0,
      "outputs": []
    },
    {
      "metadata": {
        "id": "Scxm5B0f1IyZ",
        "colab_type": "code",
        "colab": {}
      },
      "cell_type": "code",
      "source": [
        "def morePadding(input_shape=(40, 40, 1)):\n",
        "    model = Sequential()\n",
        "    model.add(ZeroPadding2D(padding=(1, 1), input_shape=input_shape))\n",
        "    model.add(Conv2D(32, kernel_size=(3, 3),\n",
        "                 activation='relu',\n",
        "                 kernel_initializer='he_normal'))\n",
        "\n",
        "    model.add(MaxPooling2D((2, 2)))\n",
        "#     model.add(Dropout(0.25))\n",
        "    model.add(ZeroPadding2D(padding=(1, 1)))\n",
        "    model.add(Conv2D(64, (3, 3), activation='relu'))\n",
        "    model.add(MaxPooling2D(pool_size=(2, 2)))\n",
        "    model.add(ZeroPadding2D(padding=(1, 1)))\n",
        "    model.add(Dropout(0.25))\n",
        "    model.add(Conv2D(128, (3, 3), activation='relu'))\n",
        "    model.add(ZeroPadding2D(padding=(1, 1)))\n",
        "    model.add(Dropout(0.4))\n",
        "    model.add(Conv2D(512, (3, 3), activation='relu'))\n",
        "    model.add(MaxPooling2D(pool_size=(2, 2)))\n",
        "    model.add(Dropout(0.5))\n",
        "    model.add(Conv2D(512, (3, 3), activation='relu'))\n",
        "    model.add(Dropout(0.5))\n",
        "    model.add(Flatten())\n",
        "    model.add(Dense(512, activation='relu'))\n",
        "    model.add(BatchNormalization())\n",
        "    model.add(Dropout(0.5))\n",
        "    model.add(Dense(num_classes, activation='softmax'))\n",
        "    model.compile(loss=keras.losses.categorical_crossentropy,\n",
        "              optimizer=keras.optimizers.Adam(),\n",
        "              metrics=['accuracy'])\n",
        "    model.summary()\n",
        "    return model"
      ],
      "execution_count": 0,
      "outputs": []
    },
    {
      "metadata": {
        "id": "HExv8p3AZ8jC",
        "colab_type": "code",
        "colab": {}
      },
      "cell_type": "code",
      "source": [
        "morePadding()"
      ],
      "execution_count": 0,
      "outputs": []
    },
    {
      "metadata": {
        "id": "denUfZuE6R9C",
        "colab_type": "text"
      },
      "cell_type": "markdown",
      "source": [
        "## Yves' model + morePadding + saving/loading models/predictions"
      ]
    },
    {
      "metadata": {
        "id": "-J82fImX0uC9",
        "colab_type": "code",
        "colab": {}
      },
      "cell_type": "code",
      "source": [
        "def yvesModel(input_shape=(40,40,1), optimizer='adam'):\n",
        "    model = Sequential()\n",
        "    model.add(ZeroPadding2D(padding=(3, 3), input_shape=input_shape))\n",
        "    model.add(Conv2D(64, kernel_size=(7, 7),\n",
        "                 activation='relu',\n",
        "                 kernel_initializer='he_normal'))\n",
        "    model.add(BatchNormalization()) # Added to Adam2\n",
        "#     model.add(Dropout(0.25)) # Added to Adam2\n",
        "    \n",
        "    model.add(ZeroPadding2D(padding=(2, 2)))\n",
        "    model.add(Conv2D(128, kernel_size=(5, 5), # Used to be 128 filters\n",
        "                 activation='relu',\n",
        "                 kernel_initializer='he_normal'))\n",
        "    model.add(BatchNormalization()) # Added to Adam2\n",
        "#     model.add(Dropout(0.4)) # Added to Adam2\n",
        "    \n",
        "    model.add(Conv2D(256, kernel_size=(3, 3),# Used to be 128 filters\n",
        "                 activation='relu',\n",
        "                 kernel_initializer='he_normal'))\n",
        "    model.add(BatchNormalization())\n",
        "#     model.add(Dropout(0.4)) # Added to Adam2\n",
        "    \n",
        "    model.add(GlobalMaxPooling2D())#pool_size=(2, 2)))\n",
        "#     model.add(Flatten())\n",
        "    model.add(Dense(512, activation='relu'))# Used to be 512 neurons\n",
        "#     model.add(BatchNormalization()) # Added to Adam2\n",
        "    model.add(Dropout(0.5))\n",
        "    \n",
        "    model.add(Dense(num_classes, activation='softmax'))\n",
        "    model.compile(loss=keras.losses.categorical_crossentropy,\n",
        "              optimizer=optimizer,#keras.optimizers.Adadelta(),\n",
        "              metrics=['accuracy'])\n",
        "    model.summary()\n",
        "    return model"
      ],
      "execution_count": 0,
      "outputs": []
    },
    {
      "metadata": {
        "id": "k8rO-74PcFAv",
        "colab_type": "code",
        "colab": {}
      },
      "cell_type": "code",
      "source": [
        "yvesModel()"
      ],
      "execution_count": 0,
      "outputs": []
    },
    {
      "metadata": {
        "id": "3dNE55fh4Nxz",
        "colab_type": "code",
        "colab": {}
      },
      "cell_type": "code",
      "source": [
        "modelYvesAdam2 = yvesModel(optimizer='adam') # Adam ended up better!\n",
        "history = modelYvesAdam2.fit(X, y,\n",
        "          batch_size=128,\n",
        "          epochs=10,\n",
        "          verbose=1,\n",
        "          validation_data=(X_val, y_val))\n",
        "modelYvesAdam2.save('/content/drive/My Drive/modelYvesAdam2-10epochs.h5')"
      ],
      "execution_count": 0,
      "outputs": []
    },
    {
      "metadata": {
        "id": "HdJBfQrie_aC",
        "colab_type": "code",
        "colab": {}
      },
      "cell_type": "code",
      "source": [
        "modelYvesAdam2 = load_model('/content/drive/My Drive/modelYvesAdam2-extra-training.h5')"
      ],
      "execution_count": 0,
      "outputs": []
    },
    {
      "metadata": {
        "id": "SB7dNUFIM8EQ",
        "colab_type": "code",
        "colab": {}
      },
      "cell_type": "code",
      "source": [
        "# Extra training!\n",
        "history = modelYvesAdam2.fit(X, y,\n",
        "          batch_size=batch_size,\n",
        "          epochs=10,\n",
        "          verbose=1,\n",
        "          validation_data=(X_val, y_val))\n",
        "\n",
        "preprocessed_kaggle = load(PREPROCESSED_KAGGLE)\n",
        "X_kaggle = formatXData(list(map(lambda x: x[1], preprocessed_kaggle)))\n",
        "kaggle_predictions = modelYvesAdam2.predict(X_kaggle)\n",
        "savePredictions('/content/drive/My Drive/modelYvesAdam2-extra-training.csv',kaggle_predictions)\n",
        "modelYvesAdam2.save('/content/drive/My Drive/modelYvesAdam2-extra-training.h5')  # creates a HDF5 file 'my_model.h5'"
      ],
      "execution_count": 0,
      "outputs": []
    },
    {
      "metadata": {
        "id": "1p9Aa0-96DaC",
        "colab_type": "code",
        "colab": {}
      },
      "cell_type": "code",
      "source": [
        "modelYvesAdam = yvesModel(optimizer='adam')\n",
        "history = modelYvesAdam.fit(X, y,\n",
        "          batch_size=batch_size,\n",
        "          epochs=10,\n",
        "          verbose=1,\n",
        "          validation_data=(X_val, y_val))\n",
        "modelYvesAdam.save('/content/drive/My Drive/modelYvesAdam-10epochs.h5')"
      ],
      "execution_count": 0,
      "outputs": []
    },
    {
      "metadata": {
        "id": "-yMSWfo4JrLP",
        "colab_type": "code",
        "colab": {}
      },
      "cell_type": "code",
      "source": [
        "modelYvesAdam = load_model('/content/drive/My Drive/modelYvesAdam-10epochs.h5')"
      ],
      "execution_count": 0,
      "outputs": []
    },
    {
      "metadata": {
        "id": "GTc9gA9TM8qD",
        "colab_type": "code",
        "colab": {}
      },
      "cell_type": "code",
      "source": [
        "# Extra training!\n",
        "history = modelYvesAdam.fit(X, y,\n",
        "          batch_size=batch_size,\n",
        "          epochs=10,\n",
        "          verbose=1,\n",
        "          validation_data=None)\n",
        "\n",
        "preprocessed_kaggle = load(PREPROCESSED_KAGGLE)\n",
        "X_kaggle = formatXData(list(map(lambda x: x[1], preprocessed_kaggle)))\n",
        "kaggle_predictions = modelYvesAdam.predict(X_kaggle)\n",
        "savePredictions('/content/drive/My Drive/modelYvesAdam-extra-training.csv',kaggle_predictions)\n",
        "modelYvesAdam.save('/content/drive/My Drive/modelYvesAdam-extra-training.h5')  # creates a HDF5 file 'my_model.h5'"
      ],
      "execution_count": 0,
      "outputs": []
    },
    {
      "metadata": {
        "id": "iftshdr691M2",
        "colab_type": "text"
      },
      "cell_type": "markdown",
      "source": [
        "## Model4"
      ]
    },
    {
      "metadata": {
        "id": "K0FSLaprreZI",
        "colab_type": "code",
        "colab": {}
      },
      "cell_type": "code",
      "source": [
        "model4 = morePadding()\n",
        "history = model4.fit(X_train, y_train,\n",
        "          batch_size=batch_size,\n",
        "          epochs=10,\n",
        "          verbose=1,\n",
        "          validation_data=(X_val, y_val))\n",
        "score = model4.evaluate(X_test, y_test, verbose=0)"
      ],
      "execution_count": 0,
      "outputs": []
    },
    {
      "metadata": {
        "id": "P8Giw8dz202b",
        "colab_type": "code",
        "colab": {}
      },
      "cell_type": "code",
      "source": [
        "model4.save('/content/drive/My Drive/model-4-extended-10epochs-split.h5')"
      ],
      "execution_count": 0,
      "outputs": []
    },
    {
      "metadata": {
        "id": "GovDLD0GAlzJ",
        "colab_type": "code",
        "colab": {}
      },
      "cell_type": "code",
      "source": [
        "model4 = load_model('/content/drive/My Drive/model4-extend-extra-training.h5')"
      ],
      "execution_count": 0,
      "outputs": []
    },
    {
      "metadata": {
        "id": "UVAKjPi2n9a9",
        "colab_type": "code",
        "colab": {}
      },
      "cell_type": "code",
      "source": [
        "# TRAIN MODEL4 AGAIN!\n",
        "history = model4.fit(X, y,\n",
        "          batch_size=batch_size,\n",
        "          epochs=10,\n",
        "          verbose=1,\n",
        "          validation_data=None)\n",
        "score = model4.evaluate(X_test, y_test, verbose=0)\n",
        "print(score)\n",
        "score = model4.evaluate(orig_X, orig_Y)\n",
        "print(score)\n",
        "\n",
        "preprocessed_kaggle = load(PREPROCESSED_KAGGLE)\n",
        "X_kaggle = formatXData(list(map(lambda x: x[1], preprocessed_kaggle)))\n",
        "kaggle_predictions = model4.predict(X_kaggle)\n",
        "savePredictions('/content/drive/My Drive/model4-extend-extra-training.csv',kaggle_predictions)\n",
        "model4.save('/content/drive/My Drive/model4-extend-extra-training.h5')  # creates a HDF5 file 'my_model.h5'"
      ],
      "execution_count": 0,
      "outputs": []
    },
    {
      "metadata": {
        "id": "V7BzRMoeW4vQ",
        "colab_type": "code",
        "colab": {}
      },
      "cell_type": "code",
      "source": [
        "model4.save('/content/drive/My Drive/model4-extend-extra-training.h5')  # creates a HDF5 file 'my_model.h5'"
      ],
      "execution_count": 0,
      "outputs": []
    },
    {
      "metadata": {
        "id": "Z_0d-UyArr93",
        "colab_type": "code",
        "colab": {}
      },
      "cell_type": "code",
      "source": [
        "score = model4.evaluate(orig_X, orig_Y)\n",
        "score"
      ],
      "execution_count": 0,
      "outputs": []
    },
    {
      "metadata": {
        "id": "NHZdgX923PCW",
        "colab_type": "code",
        "colab": {}
      },
      "cell_type": "code",
      "source": [
        "savePredictions('./model4-extend-extra-training.csv',kaggle_predictions)"
      ],
      "execution_count": 0,
      "outputs": []
    },
    {
      "metadata": {
        "id": "Hl617EVQ3-vO",
        "colab_type": "code",
        "colab": {}
      },
      "cell_type": "code",
      "source": [
        "plotHistory(history)"
      ],
      "execution_count": 0,
      "outputs": []
    },
    {
      "metadata": {
        "id": "6rnonKDw4Bu7",
        "colab_type": "code",
        "colab": {}
      },
      "cell_type": "code",
      "source": [
        "import os\n",
        "os.mkdir('./morePadding')"
      ],
      "execution_count": 0,
      "outputs": []
    },
    {
      "metadata": {
        "id": "5xbICPP04X0u",
        "colab_type": "code",
        "colab": {}
      },
      "cell_type": "code",
      "source": [
        "preprocessed_kaggle = load(PREPROCESSED_KAGGLE)\n",
        "X_kaggle = formatXData(list(map(lambda x: x[1], preprocessed_kaggle)))\n",
        "kaggle_predictions = model4.predict(X_kaggle)\n",
        "savePredictions('./morePadding/120_epochs.csv',kaggle_predictions)\n",
        "model4.save('./morePadding/120_epochs.h5')  # creates a HDF5 file 'my_model.h5'"
      ],
      "execution_count": 0,
      "outputs": []
    },
    {
      "metadata": {
        "id": "VeelASk9Krr-",
        "colab_type": "code",
        "colab": {}
      },
      "cell_type": "code",
      "source": [
        "model4 = loadModel('./morePadding/120_epochs.h5')"
      ],
      "execution_count": 0,
      "outputs": []
    },
    {
      "metadata": {
        "id": "ACiKOYFrPgxe",
        "colab_type": "code",
        "colab": {}
      },
      "cell_type": "code",
      "source": [
        "from keras import backend as K\n",
        "from keras.preprocessing.image import save_img\n",
        "import numpy as np\n",
        "import time\n",
        "\n",
        "def convertImg(img):\n",
        "    img = [row[0] for row in img]\n",
        "    newImg = [[[col] for col in row] for row in img]\n",
        "    return np.asarray(newImg)\n",
        "  \n",
        "def deprocess_image(x):\n",
        "    # normalize tensor: center on 0., ensure std is 0.1\n",
        "    x -= x.mean()\n",
        "    x /= (x.std() + 1e-5)\n",
        "    x *= 0.1\n",
        "\n",
        "    # clip to [0, 1]\n",
        "    x += 0.5\n",
        "    x = np.clip(x, 0, 1)\n",
        "\n",
        "    # convert to RGB array\n",
        "    x *= 255\n",
        "    x = x.transpose((1, 2, 0))\n",
        "    x = np.clip(x, 0, 255).astype('uint8')\n",
        "    return x\n",
        "def normalize(x):\n",
        "    # utility function to normalize a tensor by its L2 norm\n",
        "    return x / (K.sqrt(K.mean(K.square(x))) + K.epsilon())\n",
        "\n",
        "def getFilterVisualization(model, layer_name = 'conv2d_14', img_width = 10, img_height = 10, total_filters = 100):\n",
        "    layer_dict = dict([(layer.name, layer) for layer in model.layers])\n",
        "    print(layer_dict.keys())\n",
        "    input_img = model.input\n",
        "    layer_output = layer_dict[layer_name].output\n",
        "    kept_filters = []\n",
        "\n",
        "    for filter_index in range(total_filters):\n",
        "        print('Processing filter %d' % filter_index)\n",
        "        start_time = time.time()\n",
        "\n",
        "        # we build a loss function that maximizes the activation\n",
        "        # of the nth filter of the layer considered\n",
        "        layer_output = layer_dict[layer_name].output\n",
        "        if K.image_data_format() == 'channels_first':\n",
        "            loss = K.mean(layer_output[:, filter_index, :, :])\n",
        "        else:\n",
        "            loss = K.mean(layer_output[:, :, :, filter_index])\n",
        "\n",
        "        # we compute the gradient of the input picture wrt this loss\n",
        "        grads = K.gradients(loss, input_img)[0]\n",
        "\n",
        "        # normalization trick: we normalize the gradient\n",
        "        grads = normalize(grads)\n",
        "\n",
        "        # this function returns the loss and grads given the input picture\n",
        "        iterate = K.function([input_img], [loss, grads])\n",
        "\n",
        "        # step size for gradient ascent\n",
        "        step = 1.\n",
        "\n",
        "        # we start from a gray image with some random noise\n",
        "        if K.image_data_format() == 'channels_first':\n",
        "            input_img_data = np.random.random((1, 1, img_width, img_height))\n",
        "        else:\n",
        "            input_img_data = np.random.random((1, img_width, img_height, 1))\n",
        "        input_img_data = (input_img_data - 0.5) * 20 + 128\n",
        "\n",
        "        # we run gradient ascent for 20 steps\n",
        "        for i in range(20):\n",
        "            loss_value, grads_value = iterate([input_img_data])\n",
        "            input_img_data += grads_value * step\n",
        "\n",
        "            #print('Current loss value:', loss_value)\n",
        "            if loss_value <= 0.:\n",
        "                # some filters get stuck to 0, we can skip them\n",
        "                break\n",
        "\n",
        "        # decode the resulting input image\n",
        "        if loss_value > 0:\n",
        "            img = deprocess_image(input_img_data[0])\n",
        "            kept_filters.append((img, loss_value))\n",
        "        end_time = time.time()\n",
        "        print('Filter %d processed in %ds' % (filter_index, end_time - start_time))\n",
        "    \n",
        "    # want to have a number that can be squared and be less than the total number of kept filters. Or 8.\n",
        "    n = math.min(8,int(math.log(len(kept_filters), 2)))\n",
        "\n",
        "    # the filters that have the highest loss are assumed to be better-looking.\n",
        "    # we will only keep the top 64 filters.\n",
        "    kept_filters.sort(key=lambda x: x[1], reverse=True)\n",
        "    kept_filters = kept_filters[:n * n]\n",
        "\n",
        "    # build a black picture with enough space for\n",
        "    # our 8 x 8 filters of size 128 x 128, with a 5px margin in between\n",
        "    margin = 5\n",
        "    width = n * img_width + (n - 1) * margin\n",
        "    height = n * img_height + (n - 1) * margin\n",
        "    stitched_filters = np.zeros((width, height, 1))\n",
        "\n",
        "    # fill the picture with our saved filters\n",
        "    for i in range(n):\n",
        "        for j in range(n):\n",
        "            img, loss = kept_filters[i * n + j]\n",
        "            width_margin = (img_width + margin) * i\n",
        "            height_margin = (img_height + margin) * j\n",
        "            stitched_filters[\n",
        "                width_margin: width_margin + img_width,\n",
        "                height_margin: height_margin + img_height, :] = convertImg(img)\n",
        "\n",
        "    # save the result to disk\n",
        "    save_img('stitched_filters_%dx%d.png' % (n, n), stitched_filters)\n"
      ],
      "execution_count": 0,
      "outputs": []
    },
    {
      "metadata": {
        "id": "RMq6i28lSEqW",
        "colab_type": "code",
        "colab": {}
      },
      "cell_type": "code",
      "source": [
        "getFilterVisualization(model4, 'conv2d_15', 3, 3)"
      ],
      "execution_count": 0,
      "outputs": []
    },
    {
      "metadata": {
        "id": "AaiddjEBSHYA",
        "colab_type": "code",
        "colab": {}
      },
      "cell_type": "code",
      "source": [
        "def paddingAndNormalization(input_shape=(40, 40, 1)):\n",
        "    model = Sequential()\n",
        "    model.add(ZeroPadding2D(padding=(1, 1), input_shape=input_shape))\n",
        "    model.add(Conv2D(32, kernel_size=(3, 3),\n",
        "                 activation='relu',\n",
        "                 kernel_initializer='he_normal'))\n",
        "\n",
        "    model.add(MaxPooling2D((2, 2)))\n",
        "#     model.add(Dropout(0.25))\n",
        "    model.add(ZeroPadding2D(padding=(1, 1)))\n",
        "    model.add(Conv2D(64, (3, 3), activation='relu'))\n",
        "    model.add(MaxPooling2D(pool_size=(2, 2)))\n",
        "    model.add(ZeroPadding2D(padding=(1, 1)))\n",
        "    model.add(Dropout(0.25))\n",
        "    model.add(Conv2D(128, (3, 3), activation='relu'))\n",
        "    model.add(BatchNormalization())\n",
        "    model.add(ZeroPadding2D(padding=(1, 1)))\n",
        "    model.add(Dropout(0.4))\n",
        "    model.add(Conv2D(512, (3, 3), activation='relu'))\n",
        "    model.add(BatchNormalization())\n",
        "    model.add(MaxPooling2D(pool_size=(2, 2)))\n",
        "    model.add(Dropout(0.5))\n",
        "    model.add(Conv2D(512, (3, 3), activation='relu'))\n",
        "    model.add(BatchNormalization())\n",
        "    model.add(Dropout(0.5))\n",
        "    model.add(Flatten())\n",
        "    model.add(Dense(512, activation='relu'))\n",
        "    model.add(BatchNormalization())\n",
        "    model.add(Dropout(0.5))\n",
        "    model.add(Dense(num_classes, activation='softmax'))\n",
        "    model.compile(loss=keras.losses.categorical_crossentropy,\n",
        "              optimizer=keras.optimizers.Adam(),\n",
        "              metrics=['accuracy'])\n",
        "    model.summary()\n",
        "    return model"
      ],
      "execution_count": 0,
      "outputs": []
    },
    {
      "metadata": {
        "id": "8Ey4nGjOwda1",
        "colab_type": "code",
        "colab": {}
      },
      "cell_type": "code",
      "source": [
        "model5 = paddingAndNormalization()"
      ],
      "execution_count": 0,
      "outputs": []
    },
    {
      "metadata": {
        "id": "Xj2iSMNCwgI_",
        "colab_type": "code",
        "colab": {}
      },
      "cell_type": "code",
      "source": [
        "history = model5.fit(X, y,\n",
        "          batch_size=batch_size,\n",
        "          epochs=10,\n",
        "          verbose=1,\n",
        "          validation_data=(X_val, y_val))\n",
        "model5.save('/content/drive/My Drive/model5-10epochs.h5')"
      ],
      "execution_count": 0,
      "outputs": []
    },
    {
      "metadata": {
        "id": "GQuV5dVlb97S",
        "colab_type": "code",
        "colab": {}
      },
      "cell_type": "code",
      "source": [
        "model5 = load_model('/content/drive/My Drive/model5-10k-extra-training.h5')"
      ],
      "execution_count": 0,
      "outputs": []
    },
    {
      "metadata": {
        "id": "VLmg0ttT0GY7",
        "colab_type": "code",
        "colab": {
          "base_uri": "https://localhost:8080/",
          "height": 362
        },
        "outputId": "9fe061a7-fa26-426a-83e3-aee44385295a"
      },
      "cell_type": "code",
      "source": [
        "plt.imshow(X_kaggle_CV2[113].reshape(40,40))\n",
        "plt.title(\"nope\")\n",
        "plt.show()"
      ],
      "execution_count": 91,
      "outputs": [
        {
          "output_type": "display_data",
          "data": {
            "image/png": "[encoded data removed]",
            "text/plain": [
              "<matplotlib.figure.Figure at 0x7f0f99786080>"
            ]
          },
          "metadata": {
            "tags": []
          }
        }
      ]
    },
    {
      "metadata": {
        "id": "UyIbcXAV4QxN",
        "colab_type": "code",
        "colab": {}
      },
      "cell_type": "code",
      "source": [
        "losses = []\n",
        "accs = []"
      ],
      "execution_count": 0,
      "outputs": []
    },
    {
      "metadata": {
        "id": "bJPlDdx_lmv4",
        "colab_type": "code",
        "colab": {}
      },
      "cell_type": "code",
      "source": [
        "accs = np.loadtxt('/content/drive/My Drive/model5acc.txt').tolist()\n",
        "losses = np.loadtxt('/content/drive/My Drive/model5loss.txt').tolist()"
      ],
      "execution_count": 0,
      "outputs": []
    },
    {
      "metadata": {
        "id": "hrIO9TPHsmIN",
        "colab_type": "code",
        "colab": {}
      },
      "cell_type": "code",
      "source": [
        "min = 0\n",
        "max = 10\n",
        "fig, (ax1, ax2) = plt.subplots(max-min,2)\n",
        "\n",
        "for i in range(0,len(kagpred)):\n",
        "    lb = np.array(kagpred[i])\n",
        "    lbcv2 = np.array(kagcv2pred[i])\n",
        "    lb = CATEGORIES[np.argmax(lb)]\n",
        "    lbcv2 = CATEGORIES[np.argmax(lbcv2)]\n",
        "    numDiff = 0\n",
        "    if lb != lbcv2 and numDiff >= min and numDiff < 10:\n",
        "        ax1.imshow(X_kaggle[i].reshape(40,40))\n",
        "        ax2.imshow(X_kaggle_CV2[i].reshape(40,40))\n",
        "        fig.title = lb + \" \" + lbcv2\n",
        "        fig.show()\n",
        "        numDiff += 1\n",
        "    elif lb != lbcv2 and numDiff < min:\n",
        "        numDiff += 1\n",
        "    elif lb != lbcv2:\n",
        "        break"
      ],
      "execution_count": 0,
      "outputs": []
    },
    {
      "metadata": {
        "id": "qjdZ9aWnxORt",
        "colab_type": "code",
        "outputId": "be2b361e-6184-43ff-decb-5c1adb5c7c82",
        "colab": {
          "base_uri": "https://localhost:8080/",
          "height": 428
        }
      },
      "cell_type": "code",
      "source": [
        "history = model5.fit(X, y,\n",
        "          batch_size=batch_size,\n",
        "          epochs=5,\n",
        "          verbose=1)#,\n",
        "#           validation_data=(X_val, y_val))\n",
        "\n",
        "losses.extend(history.history['loss'])\n",
        "accs.extend(history.history['acc'])\n",
        "\n",
        "history = model5.fit(X_val, y_val,\n",
        "          batch_size=batch_size,\n",
        "          epochs=3,\n",
        "          verbose=1)\n",
        "\n",
        "losses.extend(history.history['loss'])\n",
        "accs.extend(history.history['acc'])\n",
        "\n",
        "history = model5.fit(origCV2_X, y_val,\n",
        "          batch_size=batch_size,\n",
        "          epochs=3,\n",
        "          verbose=1)\n",
        "\n",
        "losses.extend(history.history['loss'])\n",
        "accs.extend(history.history['acc'])\n",
        "\n",
        "preprocessed_kaggle = load(PREPROCESSED_KAGGLE)\n",
        "X_kaggle = formatXData(list(map(lambda x: x[1], preprocessed_kaggle)))\n",
        "kaggle_predictions = model5.predict(X_kaggle)\n",
        "savePredictions('/content/drive/My Drive/model5-10k-extra-training.csv',kaggle_predictions)\n",
        "model5.save('/content/drive/My Drive/model5-10k-extra-training.h5')  # creates a HDF5 file 'my_model.h5'"
      ],
      "execution_count": 97,
      "outputs": [
        {
          "output_type": "stream",
          "text": [
            "Epoch 1/5\n",
            "590000/590000 [==============================] - 358s 607us/step - loss: 0.4518 - acc: 0.8510\n",
            "Epoch 2/5\n",
            "590000/590000 [==============================] - 356s 604us/step - loss: 0.4466 - acc: 0.8531\n",
            "Epoch 3/5\n",
            "590000/590000 [==============================] - 357s 605us/step - loss: 0.4454 - acc: 0.8531\n",
            "Epoch 4/5\n",
            "590000/590000 [==============================] - 357s 605us/step - loss: 0.4447 - acc: 0.8530\n",
            "Epoch 5/5\n",
            "590000/590000 [==============================] - 356s 604us/step - loss: 0.4444 - acc: 0.8526\n",
            "Epoch 1/3\n",
            "10000/10000 [==============================] - 6s 615us/step - loss: 0.4780 - acc: 0.8459\n",
            "Epoch 2/3\n",
            "10000/10000 [==============================] - 6s 605us/step - loss: 0.4015 - acc: 0.8667\n",
            "Epoch 3/3\n",
            "10000/10000 [==============================] - 6s 605us/step - loss: 0.3729 - acc: 0.8734\n",
            "Epoch 1/3\n",
            "10000/10000 [==============================] - 6s 606us/step - loss: 0.6005 - acc: 0.8315\n",
            "Epoch 2/3\n",
            "10000/10000 [==============================] - 6s 607us/step - loss: 0.5262 - acc: 0.8445\n",
            "Epoch 3/3\n",
            "10000/10000 [==============================] - 6s 605us/step - loss: 0.4990 - acc: 0.8516\n"
          ],
          "name": "stdout"
        }
      ]
    },
    {
      "metadata": {
        "id": "NLrYQfWv4iBG",
        "colab_type": "code",
        "outputId": "c79d61b4-4c11-4249-de7a-052e7d27ce16",
        "colab": {
          "base_uri": "https://localhost:8080/",
          "height": 735
        }
      },
      "cell_type": "code",
      "source": [
        "# summarize history for accs\n",
        "plt.plot(accs)\n",
        "plt.title('model accuracy')\n",
        "plt.ylabel('accuracy')\n",
        "plt.xlabel('epoch')\n",
        "plt.legend(['train'], loc='upper left')\n",
        "plt.show()\n",
        "# summarize history for loss\n",
        "plt.plot(losses)\n",
        "plt.title('model loss')\n",
        "plt.ylabel('loss')\n",
        "plt.xlabel('epoch')\n",
        "plt.legend(['train'], loc='upper left')\n",
        "plt.show()"
      ],
      "execution_count": 115,
      "outputs": [
        {
          "output_type": "display_data",
          "data": {
            "image/png": "[encoded data removed]",
            "text/plain": [
              "<matplotlib.figure.Figure at 0x7f0f98f2dd30>"
            ]
          },
          "metadata": {
            "tags": []
          }
        },
        {
          "output_type": "display_data",
          "data": {
            "image/png": "[encoded data removed]",
            "text/plain": [
              "<matplotlib.figure.Figure at 0x7f0fb0664940>"
            ]
          },
          "metadata": {
            "tags": []
          }
        }
      ]
    },
    {
      "metadata": {
        "id": "WEaqMcWx65NT",
        "colab_type": "code",
        "colab": {}
      },
      "cell_type": "code",
      "source": [
        "good_acc = losses[:101]\n",
        "good_loss = accs[:101]"
      ],
      "execution_count": 0,
      "outputs": []
    },
    {
      "metadata": {
        "id": "mNjp6jloI0mz",
        "colab_type": "code",
        "colab": {}
      },
      "cell_type": "code",
      "source": [
        "good_acc.extend(accs[101:])\n",
        "good_loss.extend(losses[101:])"
      ],
      "execution_count": 0,
      "outputs": []
    },
    {
      "metadata": {
        "id": "9WCSbzOgJJes",
        "colab_type": "code",
        "colab": {
          "base_uri": "https://localhost:8080/",
          "height": 735
        },
        "outputId": "27166378-d570-41d5-808a-e6fcec24d3fa"
      },
      "cell_type": "code",
      "source": [
        "# summarize history for accs\n",
        "plt.plot(good_acc)\n",
        "plt.title('model accuracy')\n",
        "plt.ylabel('accuracy')\n",
        "plt.xlabel('epoch')\n",
        "plt.legend(['train'], loc='upper left')\n",
        "plt.show()\n",
        "# summarize history for loss\n",
        "plt.plot(good_loss)\n",
        "plt.title('model loss')\n",
        "plt.ylabel('loss')\n",
        "plt.xlabel('epoch')\n",
        "plt.legend(['train'], loc='upper left')\n",
        "plt.show()\n",
        "\n",
        "\n",
        "np.savetxt('/content/drive/My Drive/model5acc.txt', good_acc)\n",
        "np.savetxt('/content/drive/My Drive/model5loss.txt', good_loss)"
      ],
      "execution_count": 113,
      "outputs": [
        {
          "output_type": "display_data",
          "data": {
            "image/png": "[encoded data removed]",
            "text/plain": [
              "<matplotlib.figure.Figure at 0x7f0f98f61dd8>"
            ]
          },
          "metadata": {
            "tags": []
          }
        },
        {
          "output_type": "display_data",
          "data": {
            "image/png": "[encoded data removed]",
            "text/plain": [
              "<matplotlib.figure.Figure at 0x7f0f98e26c50>"
            ]
          },
          "metadata": {
            "tags": []
          }
        }
      ]
    },
    {
      "metadata": {
        "id": "nu52Q3fc67V_",
        "colab_type": "code",
        "colab": {}
      },
      "cell_type": "code",
      "source": [
        "model5Old = load_model('/content/drive/My Drive/model5-extra-training.h5')"
      ],
      "execution_count": 0,
      "outputs": []
    },
    {
      "metadata": {
        "id": "IFt451kF7K5H",
        "colab_type": "code",
        "outputId": "f4018f40-4df5-4fb2-a5d0-4bd600361605",
        "colab": {
          "base_uri": "https://localhost:8080/",
          "height": 391
        }
      },
      "cell_type": "code",
      "source": [
        "history = model5Old.fit(X_val, y_val,\n",
        "          batch_size=batch_size,\n",
        "          epochs=10,\n",
        "          verbose=1)\n",
        "model5Old.save('/content/drive/My Drive/model5-40ep-10k-Replica.h5')"
      ],
      "execution_count": 117,
      "outputs": [
        {
          "output_type": "stream",
          "text": [
            "Epoch 1/10\n",
            "10000/10000 [==============================] - 7s 711us/step - loss: 0.6818 - acc: 0.7841\n",
            "Epoch 2/10\n",
            "10000/10000 [==============================] - 6s 608us/step - loss: 0.5250 - acc: 0.8314\n",
            "Epoch 3/10\n",
            "10000/10000 [==============================] - 6s 604us/step - loss: 0.4711 - acc: 0.8466\n",
            "Epoch 4/10\n",
            "10000/10000 [==============================] - 6s 605us/step - loss: 0.4391 - acc: 0.8577\n",
            "Epoch 5/10\n",
            "10000/10000 [==============================] - 6s 606us/step - loss: 0.4064 - acc: 0.8682\n",
            "Epoch 6/10\n",
            "10000/10000 [==============================] - 6s 607us/step - loss: 0.3878 - acc: 0.8710\n",
            "Epoch 7/10\n",
            "10000/10000 [==============================] - 6s 605us/step - loss: 0.3752 - acc: 0.8811\n",
            "Epoch 8/10\n",
            "10000/10000 [==============================] - 6s 606us/step - loss: 0.3452 - acc: 0.8912\n",
            "Epoch 9/10\n",
            "10000/10000 [==============================] - 6s 607us/step - loss: 0.3450 - acc: 0.8880\n",
            "Epoch 10/10\n",
            "10000/10000 [==============================] - 6s 605us/step - loss: 0.3283 - acc: 0.8917\n"
          ],
          "name": "stdout"
        }
      ]
    },
    {
      "metadata": {
        "id": "2-ehGerJNQs7",
        "colab_type": "code",
        "colab": {}
      },
      "cell_type": "code",
      "source": [
        "predtest = model5Old.predict(X_kaggle)\n",
        "savePredictions(\"replica_pred.csv\", predtest)"
      ],
      "execution_count": 0,
      "outputs": []
    },
    {
      "metadata": {
        "id": "GJhFA97j7yj6",
        "colab_type": "code",
        "colab": {}
      },
      "cell_type": "code",
      "source": [
        "from functools import reduce\n",
        "lowConfidence = np.nonzero(list(map((lambda x: 1 if np.max(x)<0.2 else 0), kaggle_predictions)))[0]"
      ],
      "execution_count": 0,
      "outputs": []
    },
    {
      "metadata": {
        "id": "Xn1TQeWfJbcF",
        "colab_type": "code",
        "colab": {}
      },
      "cell_type": "code",
      "source": [
        "lowConfidence"
      ],
      "execution_count": 0,
      "outputs": []
    },
    {
      "metadata": {
        "id": "Om8vB2lNJlcO",
        "colab_type": "code",
        "colab": {}
      },
      "cell_type": "code",
      "source": [
        "visualizePredictions(X_kaggle, kaggle_predictions, lowConfidence)"
      ],
      "execution_count": 0,
      "outputs": []
    },
    {
      "metadata": {
        "id": "M1r2CUzLMLUE",
        "colab_type": "code",
        "colab": {}
      },
      "cell_type": "code",
      "source": [
        ""
      ],
      "execution_count": 0,
      "outputs": []
    }
  ]
}