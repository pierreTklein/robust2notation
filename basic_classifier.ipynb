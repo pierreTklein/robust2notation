{
 "cells": [
  {
   "cell_type": "markdown",
   "metadata": {},
   "source": [
    "## Import and load files"
   ]
  },
  {
   "cell_type": "code",
   "execution_count": 1,
   "metadata": {
    "collapsed": true
   },
   "outputs": [],
   "source": [
    "import numpy as np\n",
    "import pandas as pd # data processing, CSV file I/O (e.g. pd.read_csv)\n",
    "import matplotlib.pyplot as plt"
   ]
  },
  {
   "cell_type": "code",
   "execution_count": 2,
   "metadata": {
    "scrolled": true
   },
   "outputs": [
    {
     "name": "stdout",
     "output_type": "stream",
     "text": [
      "(10000, 2)\n",
      "10000\n"
     ]
    },
    {
     "data": {
      "text/html": [
       "<div>\n",
       "<style>\n",
       "    .dataframe thead tr:only-child th {\n",
       "        text-align: right;\n",
       "    }\n",
       "\n",
       "    .dataframe thead th {\n",
       "        text-align: left;\n",
       "    }\n",
       "\n",
       "    .dataframe tbody tr th {\n",
       "        vertical-align: top;\n",
       "    }\n",
       "</style>\n",
       "<table border=\"1\" class=\"dataframe\">\n",
       "  <thead>\n",
       "    <tr style=\"text-align: right;\">\n",
       "      <th></th>\n",
       "      <th>Id</th>\n",
       "      <th>Category</th>\n",
       "    </tr>\n",
       "  </thead>\n",
       "  <tbody>\n",
       "    <tr>\n",
       "      <th>0</th>\n",
       "      <td>0</td>\n",
       "      <td>shovel</td>\n",
       "    </tr>\n",
       "    <tr>\n",
       "      <th>1</th>\n",
       "      <td>1</td>\n",
       "      <td>rifle</td>\n",
       "    </tr>\n",
       "    <tr>\n",
       "      <th>2</th>\n",
       "      <td>2</td>\n",
       "      <td>scorpion</td>\n",
       "    </tr>\n",
       "  </tbody>\n",
       "</table>\n",
       "</div>"
      ],
      "text/plain": [
       "   Id  Category\n",
       "0   0    shovel\n",
       "1   1     rifle\n",
       "2   2  scorpion"
      ]
     },
     "execution_count": 2,
     "metadata": {},
     "output_type": "execute_result"
    }
   ],
   "source": [
    "# load paths \n",
    "TRAIN_IMG_PATH = \"/Users/anthony/Documents/Comp551_KaggleData/train_images.npy\"\n",
    "TRAIN_LAB_PATH = \"/Users/anthony/Documents/Comp551_KaggleData/train_labels.csv\"\n",
    "\n",
    "# Load images\n",
    "images = np.load(TRAIN_IMG_PATH, encoding='bytes')\n",
    "print(images.shape)\n",
    "\n",
    "# Load labels\n",
    "label_df = pd.read_csv(TRAIN_LAB_PATH)\n",
    "print(len(label_df))\n",
    "label_df[0:3]"
   ]
  },
  {
   "cell_type": "markdown",
   "metadata": {},
   "source": [
    "### Test Theo's image extraction functions\n",
    "(as of November 9, 1:21pm)"
   ]
  },
  {
   "cell_type": "code",
   "execution_count": 3,
   "metadata": {
    "collapsed": true
   },
   "outputs": [],
   "source": [
    "## Theo's methods for contour finding ##\n",
    "from skimage import measure\n",
    "from shapely.geometry import Point\n",
    "from shapely.geometry.polygon import Polygon\n",
    "\n",
    "\n",
    "def getLongestContour(img):\n",
    "    img_contours = measure.find_contours(img, 0.99, 'high')\n",
    "    img_contours.sort(key=lambda x: len(x), reverse=True)\n",
    "    return img_contours[0]\n",
    "\n",
    "# need to wrap with try / except, for when contour is invalid \n",
    "def tryPolygonArea(contour):\n",
    "    try:\n",
    "        return Polygon(contour).area\n",
    "    except:\n",
    "        return 0\n",
    "\n",
    "def getLargestContour(img):\n",
    "    img_contours = measure.find_contours(img, 0.99, 'high')\n",
    "    img_contours.sort(key=tryPolygonArea, reverse=True)\n",
    "    return img_contours[0]\n",
    "    \n",
    "\n",
    "def overlayContour(img, contour):\n",
    "    plt.imshow(img, cmap='gray_r')\n",
    "    # Plot the longest contour\n",
    "    plt.plot(contour[:, 1], contour[:, 0], linewidth=2)\n",
    "    plt.show()"
   ]
  },
  {
   "cell_type": "code",
   "execution_count": 4,
   "metadata": {
    "collapsed": true
   },
   "outputs": [],
   "source": [
    "### Theo's method for image pre-processing ###\n",
    "from scipy.ndimage import zoom\n",
    "\n",
    "## Dependencies of method ##\n",
    "\n",
    "# Get the bounding box of the contour\n",
    "def boundingBoxOfContour(contour):\n",
    "    minX = float(\"inf\")\n",
    "    minY = float(\"inf\")\n",
    "    maxX = -1\n",
    "    maxY = -1\n",
    "    for x,y in contour:\n",
    "        if minX > x:\n",
    "            minX = x\n",
    "        if minY > y:\n",
    "            minY = y\n",
    "        if maxX < x:\n",
    "            maxX = x\n",
    "        if maxY < y:\n",
    "            maxY = y\n",
    "    return minX, minY, maxX,maxY\n",
    "\n",
    "# Removes noise based off of the bounding box of the longest contour. Buffer is how much additional \n",
    "# space we want to provide beyond the bounding box.\n",
    "# If buffer < 1, it will add buffer equal to the (largest side of bounding box * buffer)\n",
    "def removeNoiseViaBoundingBox(oldImg, buffer = 0, contour_type='longest'):\n",
    "    if contour_type == 'longest':\n",
    "        contour = getLongestContour(oldImg)\n",
    "    elif contour_type == 'largest':\n",
    "        contour = getLargestContour(oldImg)\n",
    "    else:\n",
    "        print(\"Invalid contour_type:\", contour_type, \". Allowed values: longest, largest\")\n",
    "        raise\n",
    "    minX, minY, maxX, maxY = boundingBoxOfContour(contour)\n",
    "    \n",
    "    if (buffer < 1):\n",
    "        maxLength = max(maxX - minX, maxY - minY)\n",
    "        buffer = buffer * maxLength\n",
    "    # overlayContour(oldImg, np.array([[minX, minY], [minX, maxY], [maxX, maxY], [minX, maxY], [minX, minY]]))\n",
    "    \n",
    "    newImg = [[0 for j in range(len(oldImg[i]))] for i in range(len(oldImg))]\n",
    "        \n",
    "    #iterate through old image\n",
    "    for x in range(len(oldImg)):\n",
    "        for y in range(len(oldImg[x])):\n",
    "            if x >= (minX - buffer) and x <= (maxX + buffer) and y >= (minY - buffer) and y <= (maxY + buffer):\n",
    "                newImg[x][y] = oldImg[x][y]\n",
    "    return newImg\n",
    "\n",
    "#Finds the first non-zero coordinate, and the last non-zero coordinate.\n",
    "def boundingBox(img):\n",
    "    minX = -1\n",
    "    minY = -1\n",
    "    maxX = -1\n",
    "    maxY = -1\n",
    "    for i, row in enumerate(img):\n",
    "        nonZeroIndexes = np.nonzero(row)[0]\n",
    "        if len(nonZeroIndexes) != 0:\n",
    "            if minX == -1:\n",
    "                minX = i\n",
    "            if minY == -1 or minY > np.min(nonZeroIndexes):\n",
    "                minY = np.min(nonZeroIndexes)\n",
    "            if maxX < i:\n",
    "                maxX = i\n",
    "            if maxY < np.max(nonZeroIndexes):\n",
    "                maxY = np.max(nonZeroIndexes)\n",
    "    return (minX, minY), (maxX,maxY)\n",
    "\n",
    "# Centers the image\n",
    "def center(img):\n",
    "    minCoord, maxCoord = boundingBox(img)\n",
    "    xLength = maxCoord[0] - minCoord[0]\n",
    "    yLength = maxCoord[1] - minCoord[1]\n",
    "    newImg = [[0 for j in range(len(img[i]))] for i in range(len(img))]\n",
    "    \n",
    "    startX = int((len(img) - xLength) / 2)\n",
    "    startY = int((len(img[0]) - yLength) / 2)\n",
    "    for i,x in enumerate(range(startX, startX + xLength + 1)):\n",
    "        for j,y in enumerate(range(startY, startY + yLength + 1)):\n",
    "            newImg[x][y] = img[minCoord[0]+i][minCoord[1]+j]\n",
    "    return newImg\n",
    "\n",
    "# Crop out all of the white space. If you want square dimensions, then it will pad white space.\n",
    "def cropWhite(img, isSquare = False):\n",
    "    minCoord, maxCoord = boundingBox(img)\n",
    "    xLength = maxCoord[0] - minCoord[0]\n",
    "    yLength = maxCoord[1] - minCoord[1]\n",
    "    if isSquare:\n",
    "        xLength = max(xLength, yLength)\n",
    "        yLength = max(xLength, yLength)\n",
    "    \n",
    "    newImg = [[0 for j in range(yLength + 1)] for i in range(xLength + 1)]\n",
    "    for i in range(xLength + 1):\n",
    "        for j in range(yLength + 1):\n",
    "            # Check for case where we are out of bounds for cropped white + square\n",
    "            if (minCoord[0] + i) >= len(img) or (minCoord[1] + j) >= len(img[i]):\n",
    "                newImg[i][j] = 0\n",
    "            else:\n",
    "                newImg[i][j] = img[minCoord[0] + i][minCoord[1] + j]\n",
    "    return newImg\n",
    "\n",
    "# rescale image to square of height, width = dimension    \n",
    "def rescale(img, dimension):\n",
    "    cropped = cropWhite(img)\n",
    "    height = len(cropped)\n",
    "    width = len(cropped[0])\n",
    "    zoomFactor = dimension / max(height, width)\n",
    "    return zoom(img, zoomFactor, order=0)\n",
    "\n",
    "## Actual preprocessing method ##\n",
    "def preprocessImg(img, noiseRemoveType='bounding_box', contour_type='largest', rescaleDimension = 40):\n",
    "    if noiseRemoveType == 'bounding_box':\n",
    "        filteredImg = removeNoiseViaBoundingBox(img, .2, contour_type)\n",
    "    elif noiseRemoveType == 'longest_contour':\n",
    "        filteredImg = removeNoiseViaContour(img, contour_type)\n",
    "    else:\n",
    "        print(\"Invalid noiseRemoveType:\", noiseRemoveType, \". Allowed values: bounding_box, longest_contour\")\n",
    "        raise \n",
    "    croppedImg = cropWhite(filteredImg, True)\n",
    "    centered_img = center(croppedImg)\n",
    "    rescaled_img = rescale(centered_img, rescaleDimension)\n",
    "    return rescaled_img"
   ]
  },
  {
   "cell_type": "code",
   "execution_count": 5,
   "metadata": {},
   "outputs": [
    {
     "name": "stdout",
     "output_type": "stream",
     "text": [
      "    Id Category\n",
      "10  10   peanut\n"
     ]
    },
    {
     "data": {
      "image/png": "[encoded data removed]",
      "text/plain": [
       "<matplotlib.figure.Figure at 0x10e1a1438>"
      ]
     },
     "metadata": {},
     "output_type": "display_data"
    }
   ],
   "source": [
    "testIdx = 10\n",
    "\n",
    "tmpTestImg = images[testIdx][1].reshape((100,100)).astype(np.uint8)\n",
    "\n",
    "print(label_df.iloc[[testIdx]])\n",
    "\n",
    "plt.imshow(tmpTestImg, cmap='gray_r')\n",
    "plt.show()"
   ]
  },
  {
   "cell_type": "code",
   "execution_count": 6,
   "metadata": {},
   "outputs": [
    {
     "data": {
      "image/png": "[encoded data removed]",
      "text/plain": [
       "<matplotlib.figure.Figure at 0x10a945b70>"
      ]
     },
     "metadata": {},
     "output_type": "display_data"
    }
   ],
   "source": [
    "tmpProcessedImg = preprocessImg(tmpTestImg)\n",
    "\n",
    "plt.imshow(tmpProcessedImg, cmap='gray_r')\n",
    "plt.show()"
   ]
  },
  {
   "cell_type": "markdown",
   "metadata": {},
   "source": [
    "## Pre-process \n",
    "### Generate feature dictionaries"
   ]
  },
  {
   "cell_type": "code",
   "execution_count": 7,
   "metadata": {},
   "outputs": [
    {
     "data": {
      "text/plain": [
       "10000"
      ]
     },
     "execution_count": 7,
     "metadata": {},
     "output_type": "execute_result"
    }
   ],
   "source": [
    "len(images)"
   ]
  },
  {
   "cell_type": "markdown",
   "metadata": {},
   "source": [
    "#### Extract the sub-image (for a subset) of the image set"
   ]
  },
  {
   "cell_type": "code",
   "execution_count": 8,
   "metadata": {},
   "outputs": [
    {
     "name": "stdout",
     "output_type": "stream",
     "text": [
      "(2000, 20, 20)\n"
     ]
    }
   ],
   "source": [
    "# how many to extract\n",
    "N_SUBSET = 2000\n",
    "# dimension (in pixels) of each (squared) image\n",
    "IMG_DIM = 20\n",
    "\n",
    "# Pre-allocate array to store sub images\n",
    "subImagesMat = np.empty((N_SUBSET,IMG_DIM,IMG_DIM))\n",
    "\n",
    "#Use a subset of the images\n",
    "for imgIdx in range(N_SUBSET):\n",
    "    # Get the image\n",
    "    curImg = images[imgIdx][1].reshape((100,100)).astype(np.uint8)\n",
    "    # Pre-process it to get the sub image\n",
    "    subImg = preprocessImg(curImg, rescaleDimension=IMG_DIM)\n",
    "    # Save to sub-array\n",
    "    subImagesMat[imgIdx,:,:] = subImg\n",
    "\n",
    "print(np.shape(subImagesMat))"
   ]
  },
  {
   "cell_type": "code",
   "execution_count": 9,
   "metadata": {},
   "outputs": [
    {
     "name": "stdout",
     "output_type": "stream",
     "text": [
      "   Id Category\n",
      "3   3    apple\n"
     ]
    },
    {
     "data": {
      "image/png": "[encoded data removed]",
      "text/plain": [
       "<matplotlib.figure.Figure at 0x1c18aae940>"
      ]
     },
     "metadata": {},
     "output_type": "display_data"
    }
   ],
   "source": [
    "## Visualize a test image\n",
    "tmpTestImg = subImagesMat[3]\n",
    "\n",
    "print(label_df.iloc[[3]])\n",
    "\n",
    "plt.imshow(tmpTestImg, cmap='gray_r')\n",
    "plt.show()"
   ]
  },
  {
   "cell_type": "markdown",
   "metadata": {},
   "source": [
    "### Extract descriptors features from the sub-image\n",
    "**Horizontal and vertical sums of pixel values**"
   ]
  },
  {
   "cell_type": "code",
   "execution_count": 11,
   "metadata": {},
   "outputs": [
    {
     "name": "stdout",
     "output_type": "stream",
     "text": [
      "(2000, 20)\n",
      "(2000, 20)\n"
     ]
    }
   ],
   "source": [
    "# pre-allocate array\n",
    "hori_pixSum = np.empty((N_SUBSET, IMG_DIM))\n",
    "vert_pixSum = np.empty((N_SUBSET, IMG_DIM))\n",
    "\n",
    "# Compute sums \n",
    "for i, curImg in enumerate(subImagesMat):\n",
    "    # Compute horizontal sum\n",
    "    hori_pixSum[i,:] = np.sum(curImg, axis=0)\n",
    "    # Compute vertical sum\n",
    "    vert_pixSum[i,:] = np.sum(curImg, axis=1)\n",
    "\n",
    "print(np.shape(hori_pixSum))\n",
    "print(np.shape(vert_pixSum))"
   ]
  },
  {
   "cell_type": "markdown",
   "metadata": {},
   "source": [
    "** Descriptor terms for the image histogram **\n",
    "\n",
    "Taking the histogram of hessian to capture the change in image"
   ]
  },
  {
   "cell_type": "code",
   "execution_count": 12,
   "metadata": {},
   "outputs": [
    {
     "data": {
      "text/plain": [
       "(2000, 4)"
      ]
     },
     "execution_count": 12,
     "metadata": {},
     "output_type": "execute_result"
    }
   ],
   "source": [
    "from skimage import filters\n",
    "\n",
    "summaryPixStatsLists = []\n",
    "\n",
    "# Compute sums \n",
    "for i, curImg in enumerate(subImagesMat):\n",
    "    # Filter the image to get a hessian\n",
    "    imgHessian = filters.hessian(curImg)\n",
    "    \n",
    "    # Take some summary statistics\n",
    "    curMean = np.mean(imgHessian.flatten())\n",
    "    curStd = np.std(imgHessian.flatten())\n",
    "    firstQuartile = np.percentile(imgHessian.flatten(), 25)\n",
    "    thirdQuartile = np.percentile(imgHessian.flatten(), 75)\n",
    "    \n",
    "    # Save\n",
    "    summaryPixStatsLists.append( [curMean, curStd, firstQuartile, thirdQuartile] )\n",
    "\n",
    "# Convert the 2d array to a numpy array\n",
    "summaryPixStats = np.array(summaryPixStatsLists)\n",
    "np.shape(summaryPixStats)"
   ]
  },
  {
   "cell_type": "markdown",
   "metadata": {},
   "source": [
    "** Some feature extraction from skimage **\n",
    "\n",
    "Using the shape index, which defines local shapes:\n",
    "http://scikit-image.org/docs/dev/api/skimage.feature.html#skimage.feature.shape_index"
   ]
  },
  {
   "cell_type": "code",
   "execution_count": 34,
   "metadata": {},
   "outputs": [
    {
     "name": "stderr",
     "output_type": "stream",
     "text": [
      "/Users/anthony/anaconda3/envs/ImgCV/lib/python3.6/site-packages/skimage/feature/corner.py:373: RuntimeWarning: invalid value encountered in true_divide\n",
      "  return (2.0 / np.pi) * np.arctan((l2 + l1) / (l2 - l1))\n"
     ]
    },
    {
     "data": {
      "text/plain": [
       "(2000, 10)"
      ]
     },
     "execution_count": 34,
     "metadata": {},
     "output_type": "execute_result"
    }
   ],
   "source": [
    "from skimage import feature\n",
    "\n",
    "NAIVE_BINS = 10\n",
    "\n",
    "shapeIndHists = np.empty((N_SUBSET, NAIVE_BINS))\n",
    "\n",
    "\n",
    "# Compute sums \n",
    "for i, curImg in enumerate(subImagesMat):\n",
    "    # Get the shape index of the image\n",
    "    imgShapeIndex = feature.shape_index(curImg).flatten()\n",
    "    \n",
    "    imgShapeIndex = imgShapeIndex[~np.isnan(imgShapeIndex)]\n",
    "    \n",
    "    # Get a summary histogram of the shape index into (naive) evenly divided bins\n",
    "    shapeIdxHist, __ = np.histogram(imgShapeIndex, bins=NAIVE_BINS)\n",
    "    \n",
    "    # Save \n",
    "    shapeIndHists[i,:] = shapeIdxHist\n",
    "\n",
    "np.shape(shapeIndHists)"
   ]
  },
  {
   "cell_type": "markdown",
   "metadata": {},
   "source": [
    "** Just flatten the image fam **"
   ]
  },
  {
   "cell_type": "code",
   "execution_count": 46,
   "metadata": {},
   "outputs": [
    {
     "data": {
      "text/plain": [
       "(2000, 400)"
      ]
     },
     "execution_count": 46,
     "metadata": {},
     "output_type": "execute_result"
    }
   ],
   "source": [
    "flattenedImageVec = np.empty((N_SUBSET, (IMG_DIM*IMG_DIM)))\n",
    "\n",
    "# Compute sums \n",
    "for i, curImg in enumerate(subImagesMat):\n",
    "    flattenedImageVec[i] = curImg.flatten()\n",
    "\n",
    "np.shape(flattenedImageVec)"
   ]
  },
  {
   "cell_type": "markdown",
   "metadata": {},
   "source": [
    "** TODO: get more features **"
   ]
  },
  {
   "cell_type": "code",
   "execution_count": null,
   "metadata": {
    "collapsed": true
   },
   "outputs": [],
   "source": []
  },
  {
   "cell_type": "markdown",
   "metadata": {
    "collapsed": true
   },
   "source": [
    "#### Concatenate features and get labels"
   ]
  },
  {
   "cell_type": "code",
   "execution_count": 61,
   "metadata": {},
   "outputs": [
    {
     "data": {
      "text/plain": [
       "(2000, 454)"
      ]
     },
     "execution_count": 61,
     "metadata": {},
     "output_type": "execute_result"
    }
   ],
   "source": [
    "# Get feature \n",
    "X_preScale = np.hstack((hori_pixSum, vert_pixSum, summaryPixStats, shapeIndHists, flattenedImageVec))\n",
    "\n",
    "# Scale\n",
    "from sklearn.preprocessing import normalize\n",
    "\n",
    "X = normalize(X_preScale)\n",
    "\n",
    "np.shape(X)"
   ]
  },
  {
   "cell_type": "code",
   "execution_count": 62,
   "metadata": {},
   "outputs": [
    {
     "name": "stdout",
     "output_type": "stream",
     "text": [
      "(2000,)\n"
     ]
    }
   ],
   "source": [
    "from sklearn.preprocessing import LabelEncoder\n",
    "\n",
    "# Get text labels\n",
    "string_labels = label_df.head(n=N_SUBSET)['Category'].values\n",
    "\n",
    "# Encode string to integer\n",
    "le = LabelEncoder()\n",
    "le.fit(string_labels)\n",
    "y = le.transform(string_labels)\n",
    "\n",
    "print(np.shape(y))"
   ]
  },
  {
   "cell_type": "markdown",
   "metadata": {
    "collapsed": true
   },
   "source": [
    "# Classification\n",
    "### RandomForest Classifier"
   ]
  },
  {
   "cell_type": "code",
   "execution_count": 63,
   "metadata": {
    "collapsed": true
   },
   "outputs": [],
   "source": [
    "from sklearn.model_selection import KFold\n",
    "from sklearn.metrics import f1_score\n",
    "from sklearn.metrics import accuracy_score"
   ]
  },
  {
   "cell_type": "code",
   "execution_count": 64,
   "metadata": {},
   "outputs": [
    {
     "name": "stdout",
     "output_type": "stream",
     "text": [
      "K-fold iteration: 1\n",
      "K-fold iteration: 2\n",
      "K-fold iteration: 3\n",
      "K-fold iteration: 4\n",
      "K-fold iteration: 5\n"
     ]
    }
   ],
   "source": [
    "from sklearn.ensemble import RandomForestClassifier\n",
    "\n",
    "K_FOLD = 5\n",
    "\n",
    "# Performance\n",
    "F1_Performance_arr = np.empty(K_FOLD)\n",
    "accuracy_arr = np.empty(K_FOLD)\n",
    "\n",
    "\n",
    "# K-fold split\n",
    "kf = KFold(n_splits=K_FOLD)\n",
    "kf.get_n_splits(X)\n",
    "\n",
    "# Start K-fold cross validation\n",
    "for i, (train_index, test_index) in enumerate(kf.split(X)):\n",
    "    print(\"K-fold iteration: %d\" % (i+1))\n",
    "    # Split training and test sets\n",
    "    X_train, X_test = X[train_index], X[test_index]\n",
    "    y_train, y_test = y[train_index], y[test_index]\n",
    "        \n",
    "    # Initialize classifier\n",
    "    randForest = RandomForestClassifier(n_estimators=300, max_depth=3, random_state=0)\n",
    "    # Fit classifier\n",
    "    randForest.fit(X_train, y_train)\n",
    "    \n",
    "    # Predict test set\n",
    "    y_pred = randForest.predict(X_test)\n",
    "    \n",
    "    # Get performance\n",
    "    F1_Performance_arr[i] = f1_score(y_test, y_pred, average='micro')\n",
    "    accuracy_arr[i] = accuracy_score(y_test, y_pred)\n",
    "        "
   ]
  },
  {
   "cell_type": "code",
   "execution_count": 65,
   "metadata": {},
   "outputs": [
    {
     "data": {
      "image/png": "[encoded data removed]",
      "text/plain": [
       "<matplotlib.figure.Figure at 0x1c19f98f60>"
      ]
     },
     "metadata": {},
     "output_type": "display_data"
    }
   ],
   "source": [
    "# Plot performance\n",
    "plt.boxplot([accuracy_arr, F1_Performance_arr])\n",
    "plt.title(\"%d-fold validation performance\" % K_FOLD)\n",
    "#plt.xticks([1,2], ['Accuracy', 'F1'])\n",
    "plt.show()\n"
   ]
  },
  {
   "cell_type": "markdown",
   "metadata": {
    "collapsed": true
   },
   "source": [
    "### SVM"
   ]
  },
  {
   "cell_type": "code",
   "execution_count": 66,
   "metadata": {},
   "outputs": [
    {
     "name": "stdout",
     "output_type": "stream",
     "text": [
      "K-fold iteration: 1\n",
      "K-fold iteration: 2\n",
      "K-fold iteration: 3\n",
      "K-fold iteration: 4\n",
      "K-fold iteration: 5\n"
     ]
    }
   ],
   "source": [
    "from sklearn.svm import SVC\n",
    "\n",
    "K_FOLD = 5\n",
    "\n",
    "# Performance\n",
    "svm_F1_Performance_arr = np.empty(K_FOLD)\n",
    "svm_accuracy_arr = np.empty(K_FOLD)\n",
    "\n",
    "\n",
    "# K-fold split\n",
    "kf = KFold(n_splits=K_FOLD)\n",
    "kf.get_n_splits(X)\n",
    "\n",
    "# Start K-fold cross validation\n",
    "for i, (train_index, test_index) in enumerate(kf.split(X)):\n",
    "    print(\"K-fold iteration: %d\" % (i+1))\n",
    "    # Split training and test sets\n",
    "    X_train, X_test = X[train_index], X[test_index]\n",
    "    y_train, y_test = y[train_index], y[test_index]\n",
    "        \n",
    "    # Initialize classifier\n",
    "    clf = SVC(kernel='rbf', gamma='auto', random_state=0)\n",
    "    # Fit classifier\n",
    "    clf.fit(X_train, y_train)\n",
    "    \n",
    "    # Predict test set\n",
    "    y_pred = clf.predict(X_test)\n",
    "    \n",
    "    # Get performance\n",
    "    svm_F1_Performance_arr[i] = f1_score(y_test, y_pred, average='micro')\n",
    "    svm_accuracy_arr[i] = accuracy_score(y_test, y_pred)"
   ]
  },
  {
   "cell_type": "code",
   "execution_count": 67,
   "metadata": {},
   "outputs": [
    {
     "data": {
      "image/png": "[encoded data removed]",
      "text/plain": [
       "<matplotlib.figure.Figure at 0x1c1a374588>"
      ]
     },
     "metadata": {},
     "output_type": "display_data"
    }
   ],
   "source": [
    "## Plot ##\n",
    "# Plot performance\n",
    "plt.boxplot([svm_accuracy_arr, svm_F1_Performance_arr])\n",
    "plt.title(\"%d-fold validation performance\" % K_FOLD)\n",
    "plt.show()\n"
   ]
  },
  {
   "cell_type": "code",
   "execution_count": null,
   "metadata": {
    "collapsed": true
   },
   "outputs": [],
   "source": []
  },
  {
   "cell_type": "code",
   "execution_count": null,
   "metadata": {
    "collapsed": true
   },
   "outputs": [],
   "source": []
  },
  {
   "cell_type": "code",
   "execution_count": null,
   "metadata": {
    "collapsed": true
   },
   "outputs": [],
   "source": []
  },
  {
   "cell_type": "code",
   "execution_count": null,
   "metadata": {
    "collapsed": true
   },
   "outputs": [],
   "source": []
  }
 ],
 "metadata": {
  "kernelspec": {
   "display_name": "Python 3",
   "language": "python",
   "name": "python3"
  },
  "language_info": {
   "codemirror_mode": {
    "name": "ipython",
    "version": 3
   },
   "file_extension": ".py",
   "mimetype": "text/x-python",
   "name": "python",
   "nbconvert_exporter": "python",
   "pygments_lexer": "ipython3",
   "version": "3.6.3"
  }
 },
 "nbformat": 4,
 "nbformat_minor": 2
}
